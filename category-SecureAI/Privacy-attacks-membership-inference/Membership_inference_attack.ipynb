{
  "cells": [
    {
      "cell_type": "markdown",
      "metadata": {
        "id": "view-in-github",
        "colab_type": "text"
      },
      "source": [
        "<a href=\"https://colab.research.google.com/github/inspire-lab/CyberAI-labs/blob/main/category-SecureAI/Privacy-attacks-membership-inference/Membership_inference_attack.ipynb\" target=\"_parent\"><img src=\"https://colab.research.google.com/assets/colab-badge.svg\" alt=\"Open In Colab\"/></a>"
      ]
    },
    {
      "cell_type": "markdown",
      "metadata": {
        "id": "Q6w_jUt-B14g"
      },
      "source": [
        "# Running membership inference attacks on the Nursery data"
      ]
    },
    {
      "cell_type": "markdown",
      "metadata": {
        "id": "8RzvTBtqB14k"
      },
      "source": [
        "In this lab we will show how to run black-box membership attacks using [ART](https://github.com/Trusted-AI/adversarial-robustness-toolbox/). This will be demonstrated on the Nursery dataset (original dataset can be found here: https://archive.ics.uci.edu/ml/datasets/nursery).\n",
        "\n",
        "\n"
      ]
    },
    {
      "cell_type": "code",
      "source": [
        "!pip install adversarial-robustness-toolbox==1.18.1"
      ],
      "metadata": {
        "colab": {
          "base_uri": "https://localhost:8080/"
        },
        "id": "haCZOnWgB8G5",
        "outputId": "b9cec533-7d94-4432-b58b-1c8c6f8a66cc"
      },
      "execution_count": null,
      "outputs": [
        {
          "output_type": "stream",
          "name": "stdout",
          "text": [
            "Collecting adversarial-robustness-toolbox==1.18.1\n",
            "  Downloading adversarial_robustness_toolbox-1.18.1-py3-none-any.whl.metadata (11 kB)\n",
            "Requirement already satisfied: numpy>=1.18.0 in /usr/local/lib/python3.10/dist-packages (from adversarial-robustness-toolbox==1.18.1) (1.26.4)\n",
            "Requirement already satisfied: scipy>=1.4.1 in /usr/local/lib/python3.10/dist-packages (from adversarial-robustness-toolbox==1.18.1) (1.13.1)\n",
            "Requirement already satisfied: scikit-learn>=0.22.2 in /usr/local/lib/python3.10/dist-packages (from adversarial-robustness-toolbox==1.18.1) (1.5.2)\n",
            "Requirement already satisfied: six in /usr/local/lib/python3.10/dist-packages (from adversarial-robustness-toolbox==1.18.1) (1.16.0)\n",
            "Requirement already satisfied: setuptools in /usr/local/lib/python3.10/dist-packages (from adversarial-robustness-toolbox==1.18.1) (75.1.0)\n",
            "Requirement already satisfied: tqdm in /usr/local/lib/python3.10/dist-packages (from adversarial-robustness-toolbox==1.18.1) (4.66.6)\n",
            "Requirement already satisfied: joblib>=1.2.0 in /usr/local/lib/python3.10/dist-packages (from scikit-learn>=0.22.2->adversarial-robustness-toolbox==1.18.1) (1.4.2)\n",
            "Requirement already satisfied: threadpoolctl>=3.1.0 in /usr/local/lib/python3.10/dist-packages (from scikit-learn>=0.22.2->adversarial-robustness-toolbox==1.18.1) (3.5.0)\n",
            "Downloading adversarial_robustness_toolbox-1.18.1-py3-none-any.whl (1.7 MB)\n",
            "\u001b[2K   \u001b[90m━━━━━━━━━━━━━━━━━━━━━━━━━━━━━━━━━━━━━━━━\u001b[0m \u001b[32m1.7/1.7 MB\u001b[0m \u001b[31m13.0 MB/s\u001b[0m eta \u001b[36m0:00:00\u001b[0m\n",
            "\u001b[?25hInstalling collected packages: adversarial-robustness-toolbox\n",
            "Successfully installed adversarial-robustness-toolbox-1.18.1\n"
          ]
        }
      ]
    },
    {
      "cell_type": "markdown",
      "metadata": {
        "id": "-Chfd_1nB14m"
      },
      "source": [
        "We have already preprocessed the dataset such that all categorical features are one-hot encoded, and the data was scaled using sklearn's StandardScaler."
      ]
    },
    {
      "cell_type": "code",
      "execution_count": null,
      "metadata": {
        "id": "F-nPBExpB14n"
      },
      "outputs": [],
      "source": [
        "import os\n",
        "import sys\n",
        "sys.path.insert(0, os.path.abspath('..'))"
      ]
    },
    {
      "cell_type": "markdown",
      "metadata": {
        "id": "PsB0a0zsB14o"
      },
      "source": [
        "## Load data"
      ]
    },
    {
      "cell_type": "code",
      "execution_count": null,
      "metadata": {
        "id": "SuI0VUNIB14p"
      },
      "outputs": [],
      "source": [
        "from art.utils import load_nursery\n",
        "\n",
        "(x_train, y_train), (x_test, y_test), _, _ = load_nursery(test_set=0.5)"
      ]
    },
    {
      "cell_type": "markdown",
      "metadata": {
        "id": "0Qeruy4IB14p"
      },
      "source": [
        "## Train random forest model and print base model accuracy"
      ]
    },
    {
      "cell_type": "code",
      "execution_count": null,
      "metadata": {
        "id": "yyyPE5hhB14q"
      },
      "outputs": [],
      "source": [
        "from sklearn.ensemble import RandomForestClassifier\n",
        "from art.estimators.classification.scikitlearn import ScikitlearnRandomForestClassifier\n",
        "\n",
        "#####################\n",
        "#Your code goes here\n",
        "#####################"
      ]
    },
    {
      "cell_type": "markdown",
      "metadata": {
        "id": "etyUjR1yB14r"
      },
      "source": [
        "## Attack\n",
        "### Rule-based attack\n",
        "The rule-based attack uses the simple rule to determine membership in the training data: if the model's prediction for a sample is correct, then it is a member. Otherwise, it is not a member."
      ]
    },
    {
      "cell_type": "code",
      "execution_count": null,
      "metadata": {
        "id": "38o6fOJ4B14t"
      },
      "outputs": [],
      "source": [
        "import numpy as np\n",
        "from art.attacks.inference.membership_inference import MembershipInferenceBlackBoxRuleBased\n",
        "\n",
        "#####################\n",
        "#Your code goes here\n",
        "#####################\n",
        "\n",
        "# infer attacked feature\n",
        "\n",
        "#####################\n",
        "#Your code goes here\n",
        "#####################\n",
        "\n",
        "# check accuracy\n",
        "train_acc = np.sum(inferred_train) / len(inferred_train)\n",
        "test_acc = 1 - (np.sum(inferred_test) / len(inferred_test))\n",
        "acc = (train_acc * len(inferred_train) + test_acc * len(inferred_test)) / (len(inferred_train) + len(inferred_test))\n",
        "print(f\"Members Accuracy: {train_acc:.4f}\")\n",
        "print(f\"Non Members Accuracy {test_acc:.4f}\")\n",
        "print(f\"Attack Accuracy {acc:.4f}\")"
      ]
    },
    {
      "cell_type": "markdown",
      "metadata": {
        "id": "MeSWrqJ9B14v"
      },
      "source": [
        "This means that on average for 51% of the data, membership status is inferred correctly."
      ]
    },
    {
      "cell_type": "code",
      "execution_count": null,
      "metadata": {
        "colab": {
          "base_uri": "https://localhost:8080/"
        },
        "id": "cKoXAJxvB14v",
        "outputId": "a84a9206-3c1d-428c-9e56-91fd0d5b14e3"
      },
      "outputs": [
        {
          "output_type": "stream",
          "name": "stdout",
          "text": [
            "(0.5066478961363992, 1.0)\n"
          ]
        }
      ],
      "source": [
        "def calc_precision_recall(predicted, actual, positive_value=1):\n",
        "    score = 0  # both predicted and actual are positive\n",
        "    num_positive_predicted = 0  # predicted positive\n",
        "    num_positive_actual = 0  # actual positive\n",
        "    for i in range(len(predicted)):\n",
        "        if predicted[i] == positive_value:\n",
        "            num_positive_predicted += 1\n",
        "        if actual[i] == positive_value:\n",
        "            num_positive_actual += 1\n",
        "        if predicted[i] == actual[i]:\n",
        "            if predicted[i] == positive_value:\n",
        "                score += 1\n",
        "\n",
        "    if num_positive_predicted == 0:\n",
        "        precision = 1\n",
        "    else:\n",
        "        precision = score / num_positive_predicted  # the fraction of predicted “Yes” responses that are correct\n",
        "    if num_positive_actual == 0:\n",
        "        recall = 1\n",
        "    else:\n",
        "        recall = score / num_positive_actual  # the fraction of “Yes” responses that are predicted correctly\n",
        "\n",
        "    return precision, recall\n",
        "\n",
        "# rule-based\n",
        "print(calc_precision_recall(np.concatenate((inferred_train, inferred_test)),\n",
        "                            np.concatenate((np.ones(len(inferred_train)), np.zeros(len(inferred_test))))))"
      ]
    },
    {
      "cell_type": "markdown",
      "metadata": {
        "id": "JN6X733UB14x"
      },
      "source": [
        "### Black-box attack\n",
        "The black-box attack basically trains an additional classifier (called the attack model) to predict the membership status of a sample. It can use as input to the learning process probabilities/logits or losses, depending on the type of model and provided configuration.\n",
        "#### Train attack model"
      ]
    },
    {
      "cell_type": "code",
      "execution_count": null,
      "metadata": {
        "id": "r_imkLyoB14x"
      },
      "outputs": [],
      "source": [
        "from art.attacks.inference.membership_inference import MembershipInferenceBlackBox\n",
        "\n",
        "attack_train_ratio = 0.5\n",
        "attack_train_size = int(len(x_train) * attack_train_ratio)\n",
        "attack_test_size = int(len(x_test) * attack_train_ratio)\n",
        "\n",
        "#####################\n",
        "#Your code goes here\n",
        "#####################\n",
        "\n",
        "# train attack model\n",
        "bb_attack.fit(x_train[:attack_train_size], y_train[:attack_train_size],\n",
        "              x_test[:attack_test_size], y_test[:attack_test_size])"
      ]
    },
    {
      "cell_type": "markdown",
      "metadata": {
        "id": "YbLPSxPmB14y"
      },
      "source": [
        "#### Infer membership and check accuracy"
      ]
    },
    {
      "cell_type": "code",
      "execution_count": null,
      "metadata": {
        "scrolled": true,
        "colab": {
          "base_uri": "https://localhost:8080/"
        },
        "id": "cwT6cMoVB14y",
        "outputId": "ae1a0df8-738a-460d-a0bd-716f0519e4fc"
      },
      "outputs": [
        {
          "output_type": "stream",
          "name": "stdout",
          "text": [
            "Members Accuracy: 0.7826\n",
            "Non Members Accuracy 0.4955\n",
            "Attack Accuracy 0.6391\n"
          ]
        }
      ],
      "source": [
        "# get inferred values\n",
        "inferred_train_bb = bb_attack.infer(x_train[attack_train_size:], y_train[attack_train_size:])\n",
        "inferred_test_bb = bb_attack.infer(x_test[attack_test_size:], y_test[attack_test_size:])\n",
        "# check accuracy\n",
        "train_acc = np.sum(inferred_train_bb) / len(inferred_train_bb)\n",
        "test_acc = 1 - (np.sum(inferred_test_bb) / len(inferred_test_bb))\n",
        "acc = (train_acc * len(inferred_train_bb) + test_acc * len(inferred_test_bb)) / (len(inferred_train_bb) + len(inferred_test_bb))\n",
        "print(f\"Members Accuracy: {train_acc:.4f}\")\n",
        "print(f\"Non Members Accuracy {test_acc:.4f}\")\n",
        "print(f\"Attack Accuracy {acc:.4f}\")"
      ]
    },
    {
      "cell_type": "markdown",
      "metadata": {
        "id": "k_ytet7EB14z"
      },
      "source": [
        "Achieves much better results than the rule-based attack."
      ]
    },
    {
      "cell_type": "code",
      "execution_count": null,
      "metadata": {
        "colab": {
          "base_uri": "https://localhost:8080/"
        },
        "id": "QoGHMLluB14z",
        "outputId": "fa70f68e-97d5-4cc0-8962-6c3182f5895e"
      },
      "outputs": [
        {
          "output_type": "stream",
          "name": "stdout",
          "text": [
            "(0.608059486687455, 0.7826489657301636)\n"
          ]
        }
      ],
      "source": [
        "# black-box\n",
        "print(calc_precision_recall(np.concatenate((inferred_train_bb, inferred_test_bb)),\n",
        "                            np.concatenate((np.ones(len(inferred_train_bb)), np.zeros(len(inferred_test_bb))))))"
      ]
    },
    {
      "cell_type": "markdown",
      "metadata": {
        "id": "qU6GcvmBB141"
      },
      "source": [
        "## Train neural network model"
      ]
    },
    {
      "cell_type": "code",
      "execution_count": null,
      "metadata": {
        "colab": {
          "base_uri": "https://localhost:8080/"
        },
        "id": "rE3755GWB141",
        "outputId": "72de82d9-a80a-43e2-e8a4-d1609a6a5334"
      },
      "outputs": [
        {
          "output_type": "stream",
          "name": "stdout",
          "text": [
            "Base model Train accuracy:  0.946\n",
            "Base model Test accuracy:  0.928\n"
          ]
        }
      ],
      "source": [
        "import torch\n",
        "from torch import nn, optim\n",
        "from torch.utils.data import DataLoader\n",
        "from torch.utils.data.dataset import Dataset\n",
        "from art.estimators.classification.pytorch import PyTorchClassifier\n",
        "\n",
        "# reduce size of training set to make attack slightly better\n",
        "train_set_size = 500\n",
        "x_train = x_train[:train_set_size]\n",
        "y_train = y_train[:train_set_size]\n",
        "x_test = x_test[:train_set_size]\n",
        "y_test = y_test[:train_set_size]\n",
        "attack_train_size = int(len(x_train) * attack_train_ratio)\n",
        "attack_test_size = int(len(x_test) * attack_train_ratio)\n",
        "\n",
        "class ModelToAttack(nn.Module):\n",
        "\n",
        "    def __init__(self, num_classes, num_features):\n",
        "        super(ModelToAttack, self).__init__()\n",
        "\n",
        "        self.fc1 = nn.Sequential(\n",
        "                nn.Linear(num_features, 1024),\n",
        "                nn.Tanh(), )\n",
        "\n",
        "        self.fc2 = nn.Sequential(\n",
        "                nn.Linear(1024, 512),\n",
        "                nn.Tanh(), )\n",
        "\n",
        "        self.fc3 = nn.Sequential(\n",
        "            nn.Linear(512, 256),\n",
        "            nn.Tanh(), )\n",
        "\n",
        "        self.fc4 = nn.Sequential(\n",
        "            nn.Linear(256, 128),\n",
        "            nn.Tanh(),\n",
        "        )\n",
        "\n",
        "        self.classifier = nn.Linear(128, num_classes)\n",
        "\n",
        "    def forward(self, x):\n",
        "        out = self.fc1(x)\n",
        "        out = self.fc2(out)\n",
        "        out = self.fc3(out)\n",
        "        out = self.fc4(out)\n",
        "        return self.classifier(out)\n",
        "\n",
        "mlp_model = ModelToAttack(4, 24)\n",
        "mlp_model = torch.nn.DataParallel(mlp_model)\n",
        "criterion = nn.CrossEntropyLoss()\n",
        "optimizer = optim.Adam(mlp_model.parameters(), lr=0.01)\n",
        "\n",
        "class NurseryDataset(Dataset):\n",
        "    def __init__(self, x, y=None):\n",
        "        self.x = torch.from_numpy(x.astype(np.float64)).type(torch.FloatTensor)\n",
        "\n",
        "        if y is not None:\n",
        "            self.y = torch.from_numpy(y.astype(np.int8)).type(torch.LongTensor)\n",
        "        else:\n",
        "            self.y = torch.zeros(x.shape[0])\n",
        "\n",
        "    def __len__(self):\n",
        "        return len(self.x)\n",
        "\n",
        "    def __getitem__(self, idx):\n",
        "        if idx >= len(self.x):\n",
        "            raise IndexError(\"Invalid Index\")\n",
        "\n",
        "        return self.x[idx], self.y[idx]\n",
        "\n",
        "train_set = NurseryDataset(x_train, y_train)\n",
        "train_loader = DataLoader(train_set, batch_size=100, shuffle=True, num_workers=0)\n",
        "\n",
        "for epoch in range(20):\n",
        "    for (input, targets) in train_loader:\n",
        "        input, targets = torch.autograd.Variable(input), torch.autograd.Variable(targets)\n",
        "\n",
        "        optimizer.zero_grad()\n",
        "        outputs = mlp_model(input)\n",
        "        loss = criterion(outputs, targets)\n",
        "\n",
        "        loss.backward()\n",
        "        optimizer.step()\n",
        "\n",
        "\n",
        "\n",
        "mlp_art_model = PyTorchClassifier(model=mlp_model, loss=criterion, optimizer=optimizer, input_shape=(24,), nb_classes=4)\n",
        "\n",
        "train_pred = np.array([np.argmax(arr) for arr in mlp_art_model.predict(x_train.astype(np.float32))])\n",
        "print('Base model Train accuracy: ', np.sum(train_pred == y_train) / len(y_train))\n",
        "\n",
        "test_pred = np.array([np.argmax(arr) for arr in mlp_art_model.predict(x_test.astype(np.float32))])\n",
        "print('Base model Test accuracy: ', np.sum(test_pred == y_test) / len(y_test))"
      ]
    },
    {
      "cell_type": "markdown",
      "metadata": {
        "id": "fcd4kYB4B142"
      },
      "source": [
        "### Rule-based attack"
      ]
    },
    {
      "cell_type": "code",
      "execution_count": null,
      "metadata": {
        "id": "CM_65iiwB142"
      },
      "outputs": [],
      "source": [
        "mlp_attack = MembershipInferenceBlackBoxRuleBased(mlp_art_model)\n",
        "\n",
        "# infer\n",
        "\n",
        "#####################\n",
        "#Your code goes here\n",
        "#####################\n",
        "\n",
        "# check accuracy\n",
        "mlp_train_acc = np.sum(mlp_inferred_train) / len(mlp_inferred_train)\n",
        "mlp_test_acc = 1 - (np.sum(mlp_inferred_test) / len(mlp_inferred_test))\n",
        "mlp_acc = (mlp_train_acc * len(mlp_inferred_train) + mlp_test_acc * len(mlp_inferred_test)) / (len(mlp_inferred_train) + len(mlp_inferred_test))\n",
        "print(mlp_train_acc)\n",
        "print(mlp_test_acc)\n",
        "print(mlp_acc)\n",
        "\n",
        "print(calc_precision_recall(np.concatenate((mlp_inferred_train, mlp_inferred_test)),\n",
        "                            np.concatenate((np.ones(len(mlp_inferred_train)), np.zeros(len(mlp_inferred_test))))))"
      ]
    },
    {
      "cell_type": "markdown",
      "metadata": {
        "id": "KcW6lY87B143"
      },
      "source": [
        "### Black-box attack"
      ]
    },
    {
      "cell_type": "code",
      "execution_count": null,
      "metadata": {
        "colab": {
          "base_uri": "https://localhost:8080/"
        },
        "id": "JKUK_VY8B144",
        "outputId": "a9b6eead-d98c-442c-a877-7cd349257dfb"
      },
      "outputs": [
        {
          "output_type": "stream",
          "name": "stdout",
          "text": [
            "Members Accuracy: 0.5240\n",
            "Non Members Accuracy 0.4840\n",
            "Attack Accuracy 0.5040\n",
            "(0.5038461538461538, 0.524)\n"
          ]
        }
      ],
      "source": [
        "mlp_attack_bb = MembershipInferenceBlackBox(mlp_art_model, attack_model_type='rf')\n",
        "\n",
        "# train attack model\n",
        "\n",
        "#####################\n",
        "#Your code goes here\n",
        "#####################\n",
        "\n",
        "# infer\n",
        "\n",
        "#####################\n",
        "#Your code goes here\n",
        "#####################\n",
        "\n",
        "# check accuracy\n",
        "mlp_train_acc_bb = np.sum(mlp_inferred_train_bb) / len(mlp_inferred_train_bb)\n",
        "mlp_test_acc_bb = 1 - (np.sum(mlp_inferred_test_bb) / len(mlp_inferred_test_bb))\n",
        "mlp_acc_bb = (mlp_train_acc_bb * len(mlp_inferred_train_bb) + mlp_test_acc_bb * len(mlp_inferred_test_bb)) / (len(mlp_inferred_train_bb) + len(mlp_inferred_test_bb))\n",
        "\n",
        "print(f\"Members Accuracy: {mlp_train_acc_bb:.4f}\")\n",
        "print(f\"Non Members Accuracy {mlp_test_acc_bb:.4f}\")\n",
        "print(f\"Attack Accuracy {mlp_acc_bb:.4f}\")\n",
        "\n",
        "print(calc_precision_recall(np.concatenate((mlp_inferred_train_bb, mlp_inferred_test_bb)),\n",
        "                            np.concatenate((np.ones(len(mlp_inferred_train_bb)), np.zeros(len(mlp_inferred_test_bb))))))"
      ]
    },
    {
      "cell_type": "code",
      "execution_count": null,
      "metadata": {
        "colab": {
          "base_uri": "https://localhost:8080/"
        },
        "id": "V4ZIZ96GB146",
        "outputId": "211dc46f-b3c1-4168-975c-685e52bdae55"
      },
      "outputs": [
        {
          "output_type": "stream",
          "name": "stdout",
          "text": [
            "              precision    recall  f1-score   support\n",
            "\n",
            "         0.0       0.50      0.48      0.49       250\n",
            "         1.0       0.50      0.52      0.51       250\n",
            "\n",
            "    accuracy                           0.50       500\n",
            "   macro avg       0.50      0.50      0.50       500\n",
            "weighted avg       0.50      0.50      0.50       500\n",
            "\n"
          ]
        }
      ],
      "source": [
        "from sklearn.metrics import classification_report\n",
        "\n",
        "y_train_pred = np.concatenate((mlp_inferred_train_bb, mlp_inferred_test_bb))\n",
        "y_train_true = np.concatenate((np.ones_like(mlp_inferred_train_bb), np.zeros_like(mlp_inferred_test_bb)))\n",
        "print(classification_report(y_pred=y_train_pred, y_true=y_train_true))"
      ]
    },
    {
      "cell_type": "markdown",
      "metadata": {
        "id": "cEVyq3fBB147"
      },
      "source": [
        "For the pytorch target model we were able to achieve slightly better than random attack performance, but not as good as for the random forest model."
      ]
    },
    {
      "cell_type": "markdown",
      "metadata": {
        "id": "6qmHlCfAB147"
      },
      "source": [
        "### Worst Case vs Average Case evaluation for Black-Box Attack"
      ]
    },
    {
      "cell_type": "code",
      "execution_count": null,
      "metadata": {
        "colab": {
          "base_uri": "https://localhost:8080/"
        },
        "id": "dUgoP-QgB148",
        "outputId": "6d5dc4f8-c094-4898-f03c-c84235f86841"
      },
      "outputs": [
        {
          "output_type": "stream",
          "name": "stdout",
          "text": [
            "tpr=0.02: fpr=0.008: threshold=0.97\n"
          ]
        }
      ],
      "source": [
        "from art.metrics.privacy.worst_case_mia_score import get_roc_for_fpr\n",
        "\n",
        "# we run the worst case metric on trainset to find an appropriate threshold\n",
        "# Black Box\n",
        "bb_members_test_prob = mlp_attack_bb.infer(x_train[attack_train_size:].astype(np.float32), y_train[attack_train_size:], probabilities=True)\n",
        "bb_nonmembers_test_prob = mlp_attack_bb.infer(x_test[attack_test_size:].astype(np.float32), y_test[attack_test_size:], probabilities=True)\n",
        "\n",
        "bb_mia_test_probs = np.concatenate((np.squeeze(bb_members_test_prob, axis=-1),\n",
        "                               np.squeeze(bb_nonmembers_test_prob, axis=-1)))\n",
        "\n",
        "bb_mia_test_labels = np.concatenate((np.ones_like(y_train[:attack_train_size]), np.zeros_like(y_test[:attack_test_size])))\n",
        "# We allow 1% FPR\n",
        "fpr, tpr, threshold = get_roc_for_fpr(attack_proba=bb_mia_test_probs, attack_true=bb_mia_test_labels, targeted_fpr=0.01)[0]\n",
        "print(f'{tpr=}: {fpr=}: {threshold=}')"
      ]
    },
    {
      "cell_type": "code",
      "execution_count": null,
      "metadata": {
        "colab": {
          "base_uri": "https://localhost:8080/",
          "height": 472
        },
        "id": "CVMNyEmgB149",
        "outputId": "75ca65cd-f240-4a43-f6f1-e7620ec48b2f"
      },
      "outputs": [
        {
          "output_type": "display_data",
          "data": {
            "text/plain": [
              "<Figure size 640x480 with 1 Axes>"
            ],
            "image/png": "[encoded data removed]"
          },
          "metadata": {}
        }
      ],
      "source": [
        "from sklearn.metrics import roc_curve\n",
        "import matplotlib.pyplot as plt\n",
        "\n",
        "fpr, tpr, _ = roc_curve(y_score=bb_mia_test_probs, y_true=bb_mia_test_labels)\n",
        "plt.figure()\n",
        "plt.plot(fpr, tpr, color=\"darkorange\", linewidth =2, label=\"ROC curve\")\n",
        "plt.plot([0, 1], [0, 1], color=\"navy\", linewidth =2, linestyle=\"--\", label='No skills')\n",
        "plt.xlim([0.0, 1.0])\n",
        "plt.ylim([0.0, 1.0])\n",
        "plt.xlabel(\"False Positive Rate\")\n",
        "plt.ylabel(\"True Positive Rate\")\n",
        "plt.title(\"Receiver operating characteristic example\")\n",
        "plt.legend(loc=\"lower right\")\n",
        "plt.show()\n"
      ]
    },
    {
      "cell_type": "markdown",
      "metadata": {
        "id": "DSVP-FWfB14-"
      },
      "source": [
        "### Worst Case per Class evaluation for Black-Box Attack"
      ]
    },
    {
      "cell_type": "code",
      "execution_count": null,
      "metadata": {
        "colab": {
          "base_uri": "https://localhost:8080/"
        },
        "id": "VOMVmhWzB14-",
        "outputId": "7af0b10b-d543-4efb-d2dd-4deecaf19807"
      },
      "outputs": [
        {
          "output_type": "stream",
          "name": "stdout",
          "text": [
            "Class 0: tpr=0.0471: fpr=0.0000: threshold=0.9700\n",
            "Class 1: tpr=0.0000: fpr=0.0000: threshold=inf\n",
            "Class 2: tpr=0.0000: fpr=0.0000: threshold=inf\n",
            "Class 3: tpr=0.0299: fpr=0.0000: threshold=0.9500\n"
          ]
        }
      ],
      "source": [
        "# We allow 1% FPR\n",
        "target_labels = np.concatenate((y_train[attack_train_size:], y_test[attack_test_size:]))\n",
        "results = get_roc_for_fpr(attack_proba=bb_mia_test_probs, attack_true=bb_mia_test_labels, targeted_fpr=0.01, target_model_labels=target_labels)\n",
        "for v, fpr, tpr, threshold in results:\n",
        "    print(f'Class {v}: {tpr=:.4f}: {fpr=:.4f}: {threshold=:.4f}')"
      ]
    },
    {
      "cell_type": "markdown",
      "source": [
        "# References\n",
        "\n",
        "1. https://github.com/Trusted-AI/adversarial-robustness-toolbox/\n",
        "2. https://adversarial-robustness-toolbox.readthedocs.io/en/latest/\n",
        "3. https://archive.ics.uci.edu/dataset/76/nursery"
      ],
      "metadata": {
        "id": "brpuqEuag7c6"
      }
    }
  ],
  "metadata": {
    "kernelspec": {
      "display_name": "Python 3",
      "language": "python",
      "name": "python3"
    },
    "language_info": {
      "codemirror_mode": {
        "name": "ipython",
        "version": 3
      },
      "file_extension": ".py",
      "mimetype": "text/x-python",
      "name": "python",
      "nbconvert_exporter": "python",
      "pygments_lexer": "ipython3",
      "version": "3.8.5"
    },
    "colab": {
      "provenance": [],
      "include_colab_link": true
    }
  },
  "nbformat": 4,
  "nbformat_minor": 0
}