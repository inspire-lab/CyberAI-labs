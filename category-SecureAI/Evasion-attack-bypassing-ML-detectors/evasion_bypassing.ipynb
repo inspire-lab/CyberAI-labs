{
  "cells": [
    {
      "cell_type": "markdown",
      "metadata": {
        "id": "view-in-github",
        "colab_type": "text"
      },
      "source": [
        "<a href=\"https://colab.research.google.com/github/inspire-lab/CyberAI-labs/blob/main/category-SecureAI/Evasion-attack-bypassing-ML-detectors/evasion_bypassing.ipynb\" target=\"_parent\"><img src=\"https://colab.research.google.com/assets/colab-badge.svg\" alt=\"Open In Colab\"/></a>"
      ]
    },
    {
      "cell_type": "markdown",
      "metadata": {
        "id": "Q3W31bZhqItp"
      },
      "source": [
        "# Adversarial Examples - Avoiding detection\n",
        "\n",
        "Machine learning is often used to detect unwanted activies. Just think of spam detection, credit card fraud, malware detection and many more. We have built (or will be building depending on the order that you do the labs in) out own detectors. in Lab 1 we have build a detector for phishing web sites. It is pretty clear that the pepole behind such scams do not want to get flagged as none legitmate. But how can you actually do that? In this lab we will build our detector and then try to bypass it. We will be using the MNIST handwritten digit dataset. It consits of 60,000 handwritten digits. You can see and example of that looks like just below.\n",
        "![](img/MnistExamples.png)\n",
        "<center>MNIST examples - https://en.wikipedia.org/wiki/MNIST_database</center>\n",
        "\n",
        "The detector we will build will be able to distinguish between `0` and `1`. Out goal is craft images that look very simialr to a `0` but are classified as a `1` or the other way round. The images are called adversarial examples\n",
        "\n",
        "This openai (https://openai.com/blog/adversarial-example-research/) blog post descrtibes them as:\n",
        ">Adversarial examples are inputs to machine learning models that an attacker has intentionally designed to cause the model to make a mistake; they’re like optical illusions for machines.\n",
        "\n",
        "This image of a panda demonstrates how little needs to be added to an image to fool a classifier\n",
        "![](img/adversarial_img_1.png)\n",
        "\n",
        "\n",
        "We will start out by creating an `svm` based detector and will then fool it. Moving on to neural networks where we will look at more sophisticated attacks and defenses.\n"
      ]
    },
    {
      "cell_type": "markdown",
      "source": [
        "## Array shape\n",
        "\n",
        "We will be working alot with `numpy.ndarray`(https://docs.scipy.org/doc/numpy/reference/arrays.ndarray.html). The are called `ndarray` because they are n dimensional arrays. You can think of them as a matrix. A very important property of the `ndarray` is its `shape`. The `shape` tells us its dimension. The notation is the same as it for matrices. The following 2x2 matrix can be written as an `ndarray` with `shape` [2,2]\n",
        "$$\n",
        "\\begin{bmatrix}\n",
        "a & b \\\\\n",
        "c & d\n",
        "\\end{bmatrix}\n",
        "$$\n",
        "The numpy equvilent would be:\n",
        "```\n",
        "a = numpy.ndarray( [[a,b][c,d]] )\n",
        "```\n",
        "\n",
        "The shape of an `ndarray` can be changed but only to another shape the holds the same number of elements. The number of elements is the product of all elemnts in the shape. In our case $2*2=4$. We can change the shape with the `reshape` function. We need to pass in the shape that we want our `ndarray` to take. We can transform our matrix into a column vector by calling `a.reshape( ( 4,1 ) )`. If we just want a row vector we can achieve this by calling `a.reshape( 4 )`. But there is an easier way to create row vectors we just need to pass the special vector `-1` to the reshape. This will always create a row vector withour us needing to worry how many elements are in our `ndarray`.\n",
        "\n",
        "If you are unfimilar with the concept of reshaping we suggest you read this:\n",
        "\n",
        "https://www.sharpsightlabs.com/blog/numpy-reshape-python/  \n",
        "\n",
        "https://docs.scipy.org/doc/numpy/reference/generated/numpy.ndarray.shape.html"
      ],
      "metadata": {
        "id": "Qj5jQmfrdSov"
      }
    },
    {
      "cell_type": "markdown",
      "metadata": {
        "id": "hPC8dzH8qItq"
      },
      "source": [
        "Let's get started! To begin we are importing a most of the packages we need. We are using the `scikit-learn` implementation of SVM. `numpy` for `ndarray` which will hold our data. `matplotlib` for displaying the images and `keras` provides us convient wrapper for the MNIST data set."
      ]
    },
    {
      "cell_type": "code",
      "execution_count": null,
      "metadata": {
        "id": "s97020IAqIts"
      },
      "outputs": [],
      "source": [
        "from sklearn import svm\n",
        "import numpy as np\n",
        "import os\n",
        "import matplotlib.pyplot as plt\n",
        "from keras.datasets import mnist"
      ]
    },
    {
      "cell_type": "markdown",
      "metadata": {
        "id": "XPnHl_60qItv"
      },
      "source": [
        "Since we are only interested in the 1s and 0s in the data, we will need to pick those out. Since we need to this for both the test and training data, let's write a function for it.\n",
        "\n",
        "This function does a few other things as well.\n",
        "- It normalizes the data, bringing it into the interval [0,1]\n",
        "- It is also only using part of the data to make things a bit faster\n",
        "- It also reshapes the data so we can use it with SVMs"
      ]
    },
    {
      "cell_type": "code",
      "execution_count": null,
      "metadata": {
        "id": "d6hPg5bgqItw"
      },
      "outputs": [],
      "source": [
        "def exract_ones_and_zeroes( data, labels ):\n",
        "    data_zeroes = data[ np.argwhere( labels == 0 ) ][ :200 ]\n",
        "    data_ones = data[ np.argwhere( labels == 1 ) ][ :200 ]\n",
        "    x = np.vstack( (data_zeroes, data_ones) )\n",
        "\n",
        "    x = x.reshape( (x.shape[ 0 ], -1) ) / 255.\n",
        "\n",
        "    print( x.shape )\n",
        "\n",
        "    labels_zeroes = np.zeros( data_zeroes.shape[ 0 ] ) - 1.0\n",
        "    labels_ones = np.ones( data_ones.shape[ 0 ] )\n",
        "    y = np.append( labels_zeroes, labels_ones )\n",
        "\n",
        "    return x, y"
      ]
    },
    {
      "cell_type": "markdown",
      "source": [
        "### Question\n",
        "Take look at the function `extract_ones_and_zeroes`. Explain what every line is doing between line 5 and line 10 and why is it done.\n",
        "\n",
        "__Line 6:__\n",
        "\n",
        "__Line 7:__\n",
        "\n",
        "__Line 8:__\n",
        "\n",
        "__Line 9:__\n",
        "\n",
        "\n",
        "```\n",
        "Answers:\n",
        "Line 6:  Flattens the image from 28x28 matrix into a row vector because SVMs can only work with vector inputs\n",
        "Line 7: It quantizes the data, bringing it into the interval [0,1]. This is the best range for algorithms to work in\n",
        "Line 8: Assigns -1 as the label for all zeros. We need labels of -1 and 1 to correctly learn the descion boundry\n",
        "Line 9: Assigns 1 as the label for all ones.\n",
        "```\n"
      ],
      "metadata": {
        "id": "l98a6qGkd-yi"
      }
    },
    {
      "cell_type": "markdown",
      "metadata": {
        "id": "FNvfSI-4qItz"
      },
      "source": [
        "Next we need to load the data and spilt it into training and testing sets."
      ]
    },
    {
      "cell_type": "code",
      "execution_count": null,
      "metadata": {
        "colab": {
          "base_uri": "https://localhost:8080/"
        },
        "id": "wRUe9zjoqIt0",
        "outputId": "35764dec-7204-4567-bef4-42e3f9aec110"
      },
      "outputs": [
        {
          "output_type": "stream",
          "name": "stdout",
          "text": [
            "Downloading data from https://storage.googleapis.com/tensorflow/tf-keras-datasets/mnist.npz\n",
            "\u001b[1m11490434/11490434\u001b[0m \u001b[32m━━━━━━━━━━━━━━━━━━━━\u001b[0m\u001b[37m\u001b[0m \u001b[1m0s\u001b[0m 0us/step\n",
            "(400, 784)\n",
            "(400, 784)\n"
          ]
        }
      ],
      "source": [
        "from keras.datasets import mnist\n",
        "(x_train, y_train), (x_test, y_test) = mnist.load_data()\n",
        "\n",
        "# extract ones and zeroes\n",
        "x_train, y_train = exract_ones_and_zeroes( x_train, y_train )\n",
        "x_test, y_test = exract_ones_and_zeroes( x_test, y_test )"
      ]
    },
    {
      "cell_type": "markdown",
      "source": [
        "We are going to define an SVM (for a refresher on SVMs: https://scikit-learn.org/stable/modules/svm.html) with a RBF (radial basis function) kernel and train it.\n",
        "Once training is done we are going to print the accuracy and show one of the images.\n",
        "\n",
        "\n",
        "When running the next cell a message like the one below might appear. We can safley ignore that.\n",
        "```\n",
        "/home/robert/.local/lib/python3.7/site-packages/sklearn/svm/base.py:196: FutureWarning: The default value of gamma will change from 'auto' to 'scale' in version 0.22 to account better for unscaled features. Set gamma explicitly to 'auto' or 'scale' to avoid this warning.\n",
        "  \"avoid this warning.\", FutureWarning)\n",
        "```\n",
        "\n"
      ],
      "metadata": {
        "id": "PaID6mqweQ7f"
      }
    },
    {
      "cell_type": "markdown",
      "metadata": {
        "id": "F1rTmepbqIt4"
      },
      "source": [
        "### Question 1\n",
        "\n",
        "Create an SMV of type `SVC` with default parameters and train it on the training data that we have loaded earlier. Once trained print the accuracy on the test set.\n"
      ]
    },
    {
      "cell_type": "code",
      "execution_count": null,
      "metadata": {
        "colab": {
          "base_uri": "https://localhost:8080/",
          "height": 441
        },
        "id": "NBetnZElqIt5",
        "outputId": "3d785ab0-8e02-4c4c-df46-c187c639ad14"
      },
      "outputs": [
        {
          "output_type": "stream",
          "name": "stdout",
          "text": [
            "accuracy on test set: 1.0\n"
          ]
        },
        {
          "output_type": "display_data",
          "data": {
            "text/plain": [
              "<Figure size 640x480 with 1 Axes>"
            ],
            "image/png": "[encoded data removed]"
          },
          "metadata": {}
        },
        {
          "output_type": "stream",
          "name": "stdout",
          "text": [
            "Predicted class: 0\n"
          ]
        }
      ],
      "source": [
        "\n",
        "### your code goes here\n",
        "# clf = # varialbe to hold the SVM instance\n",
        "\n",
        "# solution_start\n",
        "clf = svm.SVC( gamma='auto' )\n",
        "clf.fit( x_train, y_train )\n",
        "print( 'accuracy on test set:', clf.score( x_test, y_test ) )\n",
        "# solution_end\n",
        "\n",
        "\n",
        "# plot the first instance in the traning set\n",
        "plt.imshow( x_test[ 0 ].reshape( 28, 28 ), cmap=\"gray_r\" )\n",
        "plt.axis( 'off' )\n",
        "plt.show( )\n",
        "\n",
        "predictions = clf.predict(x_test[ 0 ].reshape(1, -1))\n",
        "print(\"Predicted class:\", np.argmax(predictions))"
      ]
    },
    {
      "cell_type": "markdown",
      "source": [
        "Let's see how our svm performs when we create our own legitmate examples. To this we are going to open `KolourPaint` or any other image editor of your choice. (You can find `KolourPaint` in the side bar if you are using the VM). We want to great a 28 by 28 pixel greyscale image. The background should be all black an we draw into with white.\n",
        "\n",
        "The first thing we want to do is make sure our image is the correct size. To do this we go to the `Image` menu and select `Resize / Scale...`\n",
        "\n",
        "![](img/kp00.png)\n",
        "![](img/kp01.png)\n",
        "\n",
        "In the resize window we can see that the original size is already 28x28. So we do not need to anything. If it was something else we could simply enter 28 as both the Widht and Height and hit `OK`.\n",
        "\n",
        "![](img/kp03.png)\n",
        "\n",
        "\n",
        "Next we use the `Flood Fill` tool (red circle in the image below) to set the entire background to black. Select the tool and the color black. Click into the image. It should be solid black now like in the screenshot.\n",
        "\n",
        "![](img/kp04.png)\n",
        "\n",
        "Now it is time to draw our digit. I have chosen to draw (a beautiful) one. Choose the color white and a the `Brush` or `Pen` tool to draw your digit.\n",
        "![](img/kp05.png)\n",
        "\n",
        "Once you are happy with your masterpiece. Select `Save As...` from the `File` menu. As a save loacation chose `/home/sec-lab/security-labs/lab9/test_images/`. Give the file a nice name. Make sure you are that you are choosing `Monochrome (Dithered)` in the `Convert to:` drop down box. Once you hit save there will probably be an error message like this:\n",
        "```\n",
        "Saving the image at the low color depth of 1-bit may result in the loss of color information. Any transparency might also be removed.\n",
        "Are you sure you want to save at this color depth?\n",
        "```\n",
        "You can ignore this. Just hit `Save`  \n",
        "\n",
        "![](img/kp06.png)\n",
        "\n"
      ],
      "metadata": {
        "id": "pfv9KrpTgIcH"
      }
    },
    {
      "cell_type": "markdown",
      "source": [
        "Let see how our classifier performs. The block of code below loads the image into a numpy array and displays it. We are using the imageio package for that."
      ],
      "metadata": {
        "id": "8KK0S5VZg-8-"
      }
    },
    {
      "cell_type": "code",
      "source": [
        "import imageio\n",
        "\n",
        "# loads the one I just drew\n",
        "im = imageio.imread( 'test_images/one.png' )\n",
        "print( im.shape )\n",
        "\n",
        "# show the image\n",
        "plt.imshow( im, cmap=\"gray_r\" )\n",
        "plt.axis( 'off' )\n",
        "plt.show()"
      ],
      "metadata": {
        "colab": {
          "base_uri": "https://localhost:8080/",
          "height": 478
        },
        "id": "JELkfJIhhDBz",
        "outputId": "6f7c50aa-1f99-431c-b050-8c8dd1d5b406"
      },
      "execution_count": null,
      "outputs": [
        {
          "output_type": "stream",
          "name": "stdout",
          "text": [
            "(28, 28, 3)\n"
          ]
        },
        {
          "output_type": "stream",
          "name": "stderr",
          "text": [
            "<ipython-input-5-bf389e7a36cb>:4: DeprecationWarning: Starting with ImageIO v3 the behavior of this function will switch to that of iio.v3.imread. To keep the current behavior (and make this warning disappear) use `import imageio.v2 as imageio` or call `imageio.v2.imread` directly.\n",
            "  im = imageio.imread( 'test_images/one.png' )\n"
          ]
        },
        {
          "output_type": "display_data",
          "data": {
            "text/plain": [
              "<Figure size 640x480 with 1 Axes>"
            ],
            "image/png": "[encoded data removed]"
          },
          "metadata": {}
        }
      ]
    },
    {
      "cell_type": "markdown",
      "source": [
        "### Question 2\n",
        "For this part of the exercise draw two images. A 0 and 1. Save them in the `test_images` folder. After that use load them into python and display them. Fort the final step we want to what the classifier predicts for those images. In order to do so you need to change the data type of the image. When `imageio` loads the image it loads the values as integers (details about numpy data types https://docs.scipy.org/doc/numpy/user/basics.types.html). The values nned squashed to be in the interval [0,1]. To check if you did the squashing correctly display it again. Lastly we need to reshape the image. It will be loaded as an array with the shape [28,28] but the classifer expects inputs of the shape [782].\n",
        "\n",
        "Summed up:\n",
        "\n",
        "1. Draw a 0 and 1\n",
        "2. Save them\n",
        "3. Load with python\n",
        "4. Display images\n",
        "5. Change datatype\n",
        "6. Qunatize values\n",
        "7. Display quantized images\n",
        "8. Reshape data\n",
        "9. Use the classifier on the data"
      ],
      "metadata": {
        "id": "f-CGQkuhiTA9"
      }
    },
    {
      "cell_type": "code",
      "source": [
        "# solution_start\n",
        "# loading the image file\n",
        "im = imageio.imread( 'test_images/zero.png' )\n",
        "# display the image\n",
        "plt.imshow( im, cmap=\"gray_r\" )\n",
        "plt.axis( 'off' )\n",
        "plt.show()\n",
        "# change datatype\n",
        "im = im.astype( float )\n",
        "# quantize\n",
        "im /= 255.\n",
        "\n",
        "print(im.shape)\n",
        "#im = im[:, :, 1]\n",
        "# display again\n",
        "plt.imshow( im, cmap=\"gray_r\" )\n",
        "plt.axis( 'off' )\n",
        "plt.show()\n",
        "\n",
        "\n",
        "im = im.reshape(3, 784)\n",
        "print(im.shape)\n",
        "# Resize the image to 28x28 if necessary\n",
        "#im = im.reshape(-1)\n",
        "#im = im.reshape(3, 28 * 28)\n",
        "\n",
        "\n",
        "# Use the classifier to predict the class\n",
        "predictions = clf.predict(im.reshape(3, 784))\n",
        "print(\"Predicted class:\", np.argmax(predictions))\n",
        "\n"
      ],
      "metadata": {
        "colab": {
          "base_uri": "https://localhost:8080/",
          "height": 902
        },
        "id": "p2AVJAgriW61",
        "outputId": "910eb4f5-6259-4967-b947-9e0d107af66c"
      },
      "execution_count": null,
      "outputs": [
        {
          "output_type": "stream",
          "name": "stderr",
          "text": [
            "<ipython-input-71-6ab66a8ee2cb>:3: DeprecationWarning: Starting with ImageIO v3 the behavior of this function will switch to that of iio.v3.imread. To keep the current behavior (and make this warning disappear) use `import imageio.v2 as imageio` or call `imageio.v2.imread` directly.\n",
            "  im = imageio.imread( 'test_images/zero.png' )\n"
          ]
        },
        {
          "output_type": "display_data",
          "data": {
            "text/plain": [
              "<Figure size 640x480 with 1 Axes>"
            ],
            "image/png": "[encoded data removed]"
          },
          "metadata": {}
        },
        {
          "output_type": "stream",
          "name": "stdout",
          "text": [
            "(28, 28, 3)\n"
          ]
        },
        {
          "output_type": "display_data",
          "data": {
            "text/plain": [
              "<Figure size 640x480 with 1 Axes>"
            ],
            "image/png": "[encoded data removed]"
          },
          "metadata": {}
        },
        {
          "output_type": "stream",
          "name": "stdout",
          "text": [
            "(3, 784)\n",
            "Predicted class: 0\n"
          ]
        }
      ]
    },
    {
      "cell_type": "markdown",
      "source": [
        "### Question 3\n",
        "Open on of your self drawn instances in `kolourpaint` again try to modify until the classifier predicts it incorrectly. Provide code the displays the modified instance and the classifictioan result."
      ],
      "metadata": {
        "id": "KFk6dpDO7_SZ"
      }
    },
    {
      "cell_type": "code",
      "source": [
        "### code for question 3 goes here"
      ],
      "metadata": {
        "id": "oHoBzN6t8HTR"
      },
      "execution_count": null,
      "outputs": []
    },
    {
      "cell_type": "markdown",
      "metadata": {
        "id": "5nr7TEcbqIt9"
      },
      "source": [
        "To evade the classifier, we first pick a sample that we want to change. After that we need to retrieve some of the parameters of the SVM which we will need to calculate the gradients."
      ]
    },
    {
      "cell_type": "code",
      "execution_count": null,
      "metadata": {
        "colab": {
          "base_uri": "https://localhost:8080/",
          "height": 423
        },
        "id": "CJejqaOmqIt-",
        "outputId": "5222a225-cdc0-4ee4-eade-8d251d5016f9"
      },
      "outputs": [
        {
          "output_type": "stream",
          "name": "stdout",
          "text": [
            "class prediction for the test samples: [1.]\n"
          ]
        },
        {
          "output_type": "display_data",
          "data": {
            "text/plain": [
              "<Figure size 640x480 with 1 Axes>"
            ],
            "image/png": "[encoded data removed]"
          },
          "metadata": {}
        }
      ],
      "source": [
        "# constructing adversarial examples\n",
        "sample = x_test[ 256 ]\n",
        "print( 'class prediction for the test samples:', clf.predict( [ sample ] ) )\n",
        "\n",
        "# Retrieve the internal parameters from the SVM\n",
        "alpha = clf.dual_coef_\n",
        "svs = clf.support_vectors_\n",
        "nsv = svs.shape[ 0 ]\n",
        "b = clf.intercept_\n",
        "\n",
        "plt.imshow( sample.reshape( 28, 28 ), cmap=\"gray_r\" )\n",
        "plt.axis( 'off' )\n",
        "plt.show( )"
      ]
    },
    {
      "cell_type": "markdown",
      "metadata": {
        "id": "4J0c-T80qIuK"
      },
      "source": [
        "Now that we have the internal parameters we can calcuate the gradients of the SVM and apply the modifications to our selected sample. `lmbd` controlls the strength of the modifications, `target` is the desired class and `sample` is the instance we want to modify"
      ]
    },
    {
      "cell_type": "code",
      "execution_count": null,
      "metadata": {
        "id": "1pMAohmqqIuL"
      },
      "outputs": [],
      "source": [
        "def modify( lmbd, target, sample ):\n",
        "    \"\"\"\n",
        "    lambda: strength of the modification\n",
        "    target: class\n",
        "    sample: the sample to modify\n",
        "    \"\"\"\n",
        "\n",
        "    # the sample we modify\n",
        "    mod_sample = sample[ : ]\n",
        "\n",
        "    # Compute the kernel row matrix and kernel gradients for xc\n",
        "    kgrad = np.empty( svs.shape )\n",
        "\n",
        "    # for all support vectors\n",
        "    for i in range( nsv ):\n",
        "        sv = svs[ i, : ]  # support vector x_i\n",
        "        k = -2 * clf._gamma * np.exp( -clf._gamma * np.sqrt( np.sum( np.square( mod_sample - svs ) ) ) ) * (\n",
        "                mod_sample - sv)\n",
        "        dk = clf._gamma * k * (svs[ i, : ] - mod_sample)\n",
        "        kgrad[ i, : ] = k\n",
        "\n",
        "\n",
        "    # the direction that we move the sample in\n",
        "    grad = target * np.dot( alpha, kgrad )\n",
        "\n",
        "    # modify the sample\n",
        "    mod_sample = np.clip( mod_sample + lmbd * grad, 0.,1.)\n",
        "\n",
        "    mod_sample = np.clip( mod_sample, 0., 1. )\n",
        "    print( 'class prediction for the original sample:', clf.predict( [sample] ) )\n",
        "    print( 'class prediction for the modified sample:', clf.predict( mod_sample ) )\n",
        "    print( 'original sample:')\n",
        "    plt.imshow( sample.reshape( 28, 28 ), cmap=\"gray_r\" )\n",
        "    plt.show( )\n",
        "    print( 'modified sample:')\n",
        "    plt.imshow( mod_sample.reshape( 28, 28 ), cmap=\"gray_r\" )\n",
        "    plt.show( )\n",
        "\n",
        "\n",
        "    print( 'difference between the two samples:')\n",
        "    plt.imshow( np.abs(sample-mod_sample).reshape( 28, 28 ), cmap=\"gray_r\" )\n",
        "    plt.show( )\n",
        "\n",
        "    return mod_sample"
      ]
    },
    {
      "cell_type": "markdown",
      "source": [
        "### Question 4\n",
        "Using the `modify` function try different values for `lmdb` for the sample in the code below. Which values work best?"
      ],
      "metadata": {
        "id": "lM-JVYzS8sgz"
      }
    },
    {
      "cell_type": "code",
      "source": [
        "sample = x_test[ 256 ]\n",
        "\n",
        "# solution_start\n",
        "plt.imshow( sample.reshape( 28, 28 ), cmap=\"gray_r\" )\n",
        "plt.axis( 'off' )\n",
        "plt.show( )\n",
        "\n",
        "mod = modify( 10, -1, sample )\n",
        "# solution_end"
      ],
      "metadata": {
        "colab": {
          "base_uri": "https://localhost:8080/",
          "height": 1000
        },
        "id": "p8VUQYGU8t7o",
        "outputId": "c42094a4-5620-4dd7-ad55-f961dc77d595"
      },
      "execution_count": null,
      "outputs": [
        {
          "output_type": "display_data",
          "data": {
            "text/plain": [
              "<Figure size 640x480 with 1 Axes>"
            ],
            "image/png": "[encoded data removed]"
          },
          "metadata": {}
        },
        {
          "output_type": "stream",
          "name": "stdout",
          "text": [
            "class prediction for the original sample: [1.]\n",
            "class prediction for the modified sample: [-1.]\n",
            "original sample:\n"
          ]
        },
        {
          "output_type": "display_data",
          "data": {
            "text/plain": [
              "<Figure size 640x480 with 1 Axes>"
            ],
            "image/png": "[encoded data removed]"
          },
          "metadata": {}
        },
        {
          "output_type": "stream",
          "name": "stdout",
          "text": [
            "modified sample:\n"
          ]
        },
        {
          "output_type": "display_data",
          "data": {
            "text/plain": [
              "<Figure size 640x480 with 1 Axes>"
            ],
            "image/png": "[encoded data removed]"
          },
          "metadata": {}
        },
        {
          "output_type": "stream",
          "name": "stdout",
          "text": [
            "difference between the two samples:\n"
          ]
        },
        {
          "output_type": "display_data",
          "data": {
            "text/plain": [
              "<Figure size 640x480 with 1 Axes>"
            ],
            "image/png": "[encoded data removed]"
          },
          "metadata": {}
        }
      ]
    },
    {
      "cell_type": "markdown",
      "source": [
        "### Question 5\n",
        "Use the `modify` function to have your self drawn samples missclassified. Write the code in the cell below. What values did you try?\n"
      ],
      "metadata": {
        "id": "PVgKNoVn-Efz"
      }
    },
    {
      "cell_type": "code",
      "execution_count": null,
      "metadata": {
        "id": "UhjW3RFecwbx"
      },
      "outputs": [],
      "source": []
    }
  ],
  "metadata": {
    "colab": {
      "provenance": [],
      "include_colab_link": true
    },
    "kernelspec": {
      "display_name": "Python 3",
      "language": "python",
      "name": "python3"
    },
    "language_info": {
      "codemirror_mode": {
        "name": "ipython",
        "version": 3
      },
      "file_extension": ".py",
      "mimetype": "text/x-python",
      "name": "python",
      "nbconvert_exporter": "python",
      "pygments_lexer": "ipython3",
      "version": "3.6.4"
    }
  },
  "nbformat": 4,
  "nbformat_minor": 0
}