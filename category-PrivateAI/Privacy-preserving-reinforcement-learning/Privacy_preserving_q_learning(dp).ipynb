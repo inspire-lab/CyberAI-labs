{
  "cells": [
    {
      "cell_type": "markdown",
      "metadata": {
        "id": "view-in-github",
        "colab_type": "text"
      },
      "source": [
        "<a href=\"https://colab.research.google.com/github/inspire-lab/CyberAI-labs/blob/main/category-PrivateAI/Privacy-preserving-reinforcement-learning/Privacy_preserving_q_learning(dp).ipynb\" target=\"_parent\"><img src=\"https://colab.research.google.com/assets/colab-badge.svg\" alt=\"Open In Colab\"/></a>"
      ]
    },
    {
      "cell_type": "markdown",
      "source": [
        "# Privacy-preserving Q-Learning [Using Differential Privacy]"
      ],
      "metadata": {
        "id": "5CEnpgIxpAJE"
      }
    },
    {
      "cell_type": "code",
      "source": [
        "!git clone https://github.com/prajwalpanzade/differentially-private-q-learning"
      ],
      "metadata": {
        "colab": {
          "base_uri": "https://localhost:8080/"
        },
        "id": "fvzheJzMRfb7",
        "outputId": "aac899d6-841c-481d-b9fd-ebd4a078d612"
      },
      "execution_count": null,
      "outputs": [
        {
          "output_type": "stream",
          "name": "stdout",
          "text": [
            "Cloning into 'differentially-private-q-learning'...\n",
            "remote: Enumerating objects: 14, done.\u001b[K\n",
            "remote: Total 14 (delta 0), reused 0 (delta 0), pack-reused 14 (from 1)\u001b[K\n",
            "Receiving objects: 100% (14/14), 13.70 KiB | 13.70 MiB/s, done.\n",
            "Resolving deltas: 100% (5/5), done.\n"
          ]
        }
      ]
    },
    {
      "cell_type": "code",
      "execution_count": null,
      "metadata": {
        "id": "5AaTUn0ARb05"
      },
      "outputs": [],
      "source": [
        "%matplotlib inline"
      ]
    },
    {
      "cell_type": "code",
      "execution_count": null,
      "metadata": {
        "id": "9a9AjIczRb06"
      },
      "outputs": [],
      "source": [
        "from gym.spaces.box import Box\n",
        "from gym.spaces.discrete import Discrete\n",
        "import numpy as np\n",
        "\n",
        "class hitorstandcontinuous:\n",
        "    def __init__(self):\n",
        "        self.observation_space = Box(0*np.ones(1), 1.0*np.ones(1), dtype=np.float64)\n",
        "        self.action_space = Discrete(2)\n",
        "        self.num_envs = 1\n",
        "        self.cnt = 0\n",
        "        self.length = 50\n",
        "\n",
        "    def step(self, action):\n",
        "        self.cnt += 1\n",
        "        #if action == 1:\n",
        "        #    if self.state > 0.5:\n",
        "        #        self.state = np.random.uniform(0.0, self.state, (1,))\n",
        "        #    else:\n",
        "        #        self.state = np.random.uniform(self.state, 1.0, (1,))\n",
        "        #reward = 0.0\n",
        "        if action == 0:\n",
        "            self.state = min(self.state + np.random.uniform(0.0, 0.25, (1,)), np.array([1.0]))\n",
        "        elif action == 1:\n",
        "            self.state = max(self.state - np.random.uniform(0.0, 0.25, (1,)), np.array([0.0]))\n",
        "        done = np.array([self.cnt == self.length])\n",
        "        reward = float(0.5 - np.abs(self.state-0.5))\n",
        "        if done:\n",
        "            self.cnt = 0\n",
        "        #    reward = float(self.state)\n",
        "        return self.state, reward, done, None\n",
        "\n",
        "    def reset(self):\n",
        "        self.cnt = 0\n",
        "        self.state = np.random.uniform(0.0, 1.0, (1,))\n",
        "        return self.state\n",
        "\n",
        "    def render(self):\n",
        "        raise NotImplementedError\n",
        "\n",
        "    def seed(self, seed_value):\n",
        "        np.random.seed(seed)\n",
        "        print('numpy seed is changed to {} globally'.format(seed))"
      ]
    },
    {
      "cell_type": "markdown",
      "metadata": {
        "id": "-ygXn2tQRb06"
      },
      "source": [
        "\n",
        "Differentially Private Q-Learning in continuous spaces\n",
        "=====================================\n",
        "**Original Author**: Removed for anonymity; Will reveal and thank the author in the public version of the paper\n",
        "\n",
        "\n",
        "This tutorial shows how to use PyTorch to train a Deep Q Learning (DQN) agent\n",
        "on the CartPole-v0 task from the `OpenAI Gym <https://gym.openai.com/>`__.\n",
        "\n",
        "**Packages**\n",
        "\n",
        "\n",
        "First, let's import needed packages. Firstly, we need\n",
        "`gym <https://gym.openai.com/docs>`__ for the environment\n",
        "(Install using `pip install gym`).\n",
        "We'll also use the following from PyTorch:\n",
        "\n",
        "-  neural networks (``torch.nn``)\n",
        "-  optimization (``torch.optim``)\n",
        "-  automatic differentiation (``torch.autograd``)\n",
        "-  utilities for vision tasks (``torchvision`` - `a separate\n",
        "   package <https://github.com/pytorch/vision>`__).\n",
        "\n",
        "\n"
      ]
    },
    {
      "cell_type": "code",
      "execution_count": null,
      "metadata": {
        "id": "jvgD5agtRb07",
        "colab": {
          "base_uri": "https://localhost:8080/"
        },
        "outputId": "b9bcf661-b408-4e47-f4e0-13896dd0983c"
      },
      "outputs": [
        {
          "output_type": "stream",
          "name": "stderr",
          "text": [
            "/usr/local/lib/python3.10/dist-packages/ipykernel/ipkernel.py:283: DeprecationWarning: `should_run_async` will not call `transform_cell` automatically in the future. Please pass the result to `transformed_cell` argument and any exception that happen during thetransform in `preprocessing_exc_tuple` in IPython 7.17 and above.\n",
            "  and should_run_async(code)\n"
          ]
        }
      ],
      "source": [
        "import gym\n",
        "import math\n",
        "import random\n",
        "import numpy as np\n",
        "import matplotlib\n",
        "import matplotlib.pyplot as plt\n",
        "from collections import namedtuple\n",
        "from itertools import count\n",
        "from PIL import Image\n",
        "\n",
        "import torch\n",
        "import torch.nn as nn\n",
        "import torch.optim as optim\n",
        "import torch.nn.functional as F\n",
        "\n",
        "\n",
        "env = hitorstandcontinuous()\n",
        "m = env.action_space.n\n",
        "\n",
        "seed = 3\n",
        "np.random.seed(seed)\n",
        "torch.manual_seed(seed)\n",
        "\n",
        "\n",
        "# set up matplotlib\n",
        "is_ipython = 'inline' in matplotlib.get_backend()\n",
        "if is_ipython:\n",
        "    from IPython import display\n",
        "\n",
        "plt.ion()\n",
        "\n",
        "# if gpu is to be used\n",
        "device = \"cpu\""
      ]
    },
    {
      "cell_type": "markdown",
      "metadata": {
        "id": "hDP9NwDIRb08"
      },
      "source": [
        "**Task for test**\n",
        "=====================================\n",
        "\n",
        "The agent has to decide between two actions - moving the cart left or\n",
        "right - If the agent choose to move left (right), its position will be moved randomly to the left (right) randomly by 0 to 0.25.\n",
        "The state space is between 0 and 1.\n",
        "The reward is given by 0.5 minus its distance to the middle point.\n",
        "\n",
        "**Noise Buffer**\n",
        "=====================================\n",
        "\n",
        "We use noise buffer to represent the Gaussian process noise. The buffer remembers the previous evaluations of the sample path and efficiently infers the new queries."
      ]
    },
    {
      "cell_type": "code",
      "execution_count": null,
      "metadata": {
        "id": "ezLZjGhpRb08",
        "colab": {
          "base_uri": "https://localhost:8080/"
        },
        "outputId": "67789266-b9ba-4fbe-99e2-8882718c3459"
      },
      "outputs": [
        {
          "output_type": "stream",
          "name": "stderr",
          "text": [
            "/usr/local/lib/python3.10/dist-packages/ipykernel/ipkernel.py:283: DeprecationWarning: `should_run_async` will not call `transform_cell` automatically in the future. Please pass the result to `transformed_cell` argument and any exception that happen during thetransform in `preprocessing_exc_tuple` in IPython 7.17 and above.\n",
            "  and should_run_async(code)\n"
          ]
        }
      ],
      "source": [
        "import bisect\n",
        "import numpy as np\n",
        "\n",
        "def kk(x, y):\n",
        "    return np.exp(-abs(x-y))\n",
        "\n",
        "def rho(x, y):\n",
        "    return np.exp(abs(x-y)) - np.exp(-abs(x-y))\n",
        "\n",
        "class noisebuffer:\n",
        "    def __init__(self, m, sigma):\n",
        "        self.buffer = []\n",
        "        self.base = {}\n",
        "        self.m = m\n",
        "        self.sigma = sigma\n",
        "\n",
        "    def sample(self, s):\n",
        "        buffer = self.buffer\n",
        "        sigma = self.sigma\n",
        "\n",
        "        if len(buffer) == 0:\n",
        "            v0 = np.random.normal(0, sigma)\n",
        "            v1 = np.random.normal(0, sigma)\n",
        "            self.buffer.append((s, v0, v1))\n",
        "            return (v0, v1)\n",
        "        else:\n",
        "            idx = bisect.bisect(buffer, (s, 0, 0))\n",
        "            if len(buffer) == 1:\n",
        "                if buffer[0][0] == s:\n",
        "                    return (buffer[0][1], buffer[0][2])\n",
        "            else:\n",
        "                if (idx <= len(buffer)-1) and (buffer[idx][0] == s):\n",
        "                    return (buffer[idx][1], buffer[idx][2])\n",
        "                elif (idx >= 1) and (buffer[idx-1][0] == s):\n",
        "                    return (buffer[idx-1][1], buffer[idx-1][2])\n",
        "                elif (idx <= len(buffer)-2) and (buffer[idx+1][0] == s):\n",
        "                    return (buffer[idx+1][1], buffer[idx+1][2])\n",
        "\n",
        "        if s < buffer[0][0]:\n",
        "            mean0 = kk(s, buffer[0][0]) * buffer[0][1]\n",
        "            mean1 = kk(s, buffer[0][0]) * buffer[0][2]\n",
        "            var0 = 1 - kk(s, buffer[0][0]) ** 2\n",
        "            var1 = 1 - kk(s, buffer[0][0]) ** 2\n",
        "            v0 = np.random.normal(mean0, np.sqrt(var0) * sigma)\n",
        "            v1 = np.random.normal(mean1, np.sqrt(var1) * sigma)\n",
        "            self.buffer.insert(0, (s, v0, v1))\n",
        "        elif s > buffer[-1][0]:\n",
        "            mean0 = kk(s, buffer[-1][0]) * buffer[0][1]\n",
        "            mean1 = kk(s, buffer[-1][0]) * buffer[0][2]\n",
        "            var0 = 1 - kk(s, buffer[-1][0]) ** 2\n",
        "            var1 = var0\n",
        "            v0 = np.random.normal(mean0, np.sqrt(var0) * sigma)\n",
        "            v1 = np.random.normal(mean1, np.sqrt(var1) * sigma)\n",
        "            self.buffer.insert(len(buffer), (s, v0, v1))\n",
        "        else:\n",
        "            idx = bisect.bisect(buffer, (s, None, None))\n",
        "            sminus, eminus0, eminus1 = buffer[idx-1]\n",
        "            splus, eplus0, eplus1 = buffer[idx]\n",
        "            mean0 = (rho(splus, s)*eminus0 + rho(sminus, s)*eplus0) / rho(sminus, splus)\n",
        "            mean1 = (rho(splus, s)*eminus1 + rho(sminus, s)*eplus1) / rho(sminus, splus)\n",
        "            var0 = 1 - (kk(sminus, s)*rho(splus, s) + kk(splus, s)*rho(sminus, s)) / rho(sminus, splus)\n",
        "            var1 = var0\n",
        "            v0 = np.random.normal(mean0, np.sqrt(var0) * sigma)\n",
        "            v1 = np.random.normal(mean1, np.sqrt(var1) * sigma)\n",
        "            self.buffer.insert(idx, (s, v0, v1))\n",
        "        return (v0, v1)\n",
        "\n",
        "    def reset(self):\n",
        "        self.buffer = []"
      ]
    },
    {
      "cell_type": "code",
      "execution_count": null,
      "metadata": {
        "id": "8F4Jd88WRb08",
        "colab": {
          "base_uri": "https://localhost:8080/",
          "height": 35
        },
        "outputId": "1ec95de2-b1cc-4a11-efe0-033c62dc5be6"
      },
      "outputs": [
        {
          "output_type": "execute_result",
          "data": {
            "text/plain": [
              "'\\nnb = noisebuffer(2, 1.)\\nprint(nb.sample(0.5))\\nprint(nb.sample(0.3))\\nprint(nb.sample(0.7))\\nprint(nb.sample(0.4))\\nprint(nb.sample(0.5))\\nprint(nb.sample(0.7))\\n'"
            ],
            "application/vnd.google.colaboratory.intrinsic+json": {
              "type": "string"
            }
          },
          "metadata": {},
          "execution_count": 6
        }
      ],
      "source": [
        "'''\n",
        "nb = noisebuffer(2, 1.)\n",
        "print(nb.sample(0.5))\n",
        "print(nb.sample(0.3))\n",
        "print(nb.sample(0.7))\n",
        "print(nb.sample(0.4))\n",
        "print(nb.sample(0.5))\n",
        "print(nb.sample(0.7))\n",
        "'''"
      ]
    },
    {
      "cell_type": "markdown",
      "metadata": {
        "id": "ZHMGkKCsRb08"
      },
      "source": [
        "Replay Memory\n",
        "-------------\n",
        "\n",
        "We'll be using experience replay memory for training our DQN. It stores\n",
        "the transitions that the agent observes, allowing us to reuse this data\n",
        "later. By sampling from it randomly, the transitions that build up a\n",
        "batch are decorrelated. It has been shown that this greatly stabilizes\n",
        "and improves the DQN training procedure.\n",
        "\n",
        "For this, we're going to need two classses:\n",
        "\n",
        "-  ``Transition`` - a named tuple representing a single transition in\n",
        "   our environment. It maps essentially maps (state, action) pairs\n",
        "   to their (next_state, reward) result, with the state being the original state returned by the environment.\n",
        "-  ``ReplayMemory`` - a cyclic buffer of bounded size that holds the\n",
        "   transitions observed recently. It also implements a ``.sample()``\n",
        "   method for selecting a random batch of transitions for training.\n",
        "\n",
        "\n"
      ]
    },
    {
      "cell_type": "code",
      "execution_count": null,
      "metadata": {
        "id": "tfSJEm-ERb08"
      },
      "outputs": [],
      "source": [
        "Transition = namedtuple('Transition',\n",
        "                        ('state', 'action', 'next_state', 'reward'))\n",
        "\n",
        "\n",
        "class ReplayMemory(object):\n",
        "\n",
        "    def __init__(self, capacity):\n",
        "        self.capacity = capacity\n",
        "        self.memory = []\n",
        "        self.position = 0\n",
        "\n",
        "    def push(self, *args):\n",
        "        \"\"\"Saves a transition.\"\"\"\n",
        "        if len(self.memory) < self.capacity:\n",
        "            self.memory.append(None)\n",
        "        self.memory[self.position] = Transition(*args)\n",
        "        self.position = (self.position + 1) % self.capacity\n",
        "\n",
        "    def sample(self, batch_size):\n",
        "        return random.sample(self.memory, batch_size)\n",
        "\n",
        "    def __len__(self):\n",
        "        return len(self.memory)"
      ]
    },
    {
      "cell_type": "markdown",
      "metadata": {
        "id": "hfNMgjBnRb09"
      },
      "source": [
        "Now, let's define our model. But first, let quickly recap what a DQN is.\n",
        "\n",
        "DQN algorithm\n",
        "-------------\n",
        "\n",
        "Our environment is deterministic, so all equations presented here are\n",
        "also formulated deterministically for the sake of simplicity. In the\n",
        "reinforcement learning literature, they would also contain expectations\n",
        "over stochastic transitions in the environment.\n",
        "\n",
        "Our aim will be to train a policy that tries to maximize the discounted,\n",
        "cumulative reward\n",
        "$R_{t_0} = \\sum_{t=t_0}^{\\infty} \\gamma^{t - t_0} r_t$, where\n",
        "$R_{t_0}$ is also known as the *return*. The discount,\n",
        "$\\gamma$, should be a constant between $0$ and $1$\n",
        "that ensures the sum converges. It makes rewards from the uncertain far\n",
        "future less important for our agent than the ones in the near future\n",
        "that it can be fairly confident about.\n",
        "\n",
        "The main idea behind Q-learning is that if we had a function\n",
        "$Q^*: State \\times Action \\rightarrow \\mathbb{R}$, that could tell\n",
        "us what our return would be, if we were to take an action in a given\n",
        "state, then we could easily construct a policy that maximizes our\n",
        "rewards:\n",
        "\n",
        "\\begin{align}\\pi^*(s) = \\arg\\!\\max_a \\ Q^*(s, a)\\end{align}\n",
        "\n",
        "However, we don't know everything about the world, so we don't have\n",
        "access to $Q^*$. But, since neural networks are universal function\n",
        "approximators, we can simply create one and train it to resemble\n",
        "$Q^*$.\n",
        "\n",
        "For our training update rule, we'll use a fact that every $Q$\n",
        "function for some policy obeys the Bellman equation:\n",
        "\n",
        "\\begin{align}Q^{\\pi}(s, a) = r + \\gamma Q^{\\pi}(s', \\pi(s'))\\end{align}\n",
        "\n",
        "The difference between the two sides of the equality is known as the\n",
        "temporal difference error, $\\delta$:\n",
        "\n",
        "\\begin{align}\\delta = Q(s, a) - (r + \\gamma \\max_a Q(s', a))\\end{align}\n",
        "\n",
        "To minimise this error, we will use the `Huber\n",
        "loss <https://en.wikipedia.org/wiki/Huber_loss>`__. The Huber loss acts\n",
        "like the mean squared error when the error is small, but like the mean\n",
        "absolute error when the error is large - this makes it more robust to\n",
        "outliers when the estimates of $Q$ are very noisy. We calculate\n",
        "this over a batch of transitions, $B$, sampled from the replay\n",
        "memory:\n",
        "\n",
        "\\begin{align}\\mathcal{L} = \\frac{1}{|B|}\\sum_{(s, a, s', r) \\ \\in \\ B} \\mathcal{L}(\\delta)\\end{align}\n",
        "\n",
        "\\begin{align}\\text{where} \\quad \\mathcal{L}(\\delta) = \\begin{cases}\n",
        "     \\frac{1}{2}{\\delta^2}  & \\text{for } |\\delta| \\le 1, \\\\\n",
        "     |\\delta| - \\frac{1}{2} & \\text{otherwise.}\n",
        "   \\end{cases}\\end{align}\n",
        "\n",
        "Q-network\n",
        "=====================================\n",
        "\n",
        "Our model will be a MLP network that takes in the\n",
        "original state returned by the environment. It has two\n",
        "outputs, representing $Q(s, \\mathrm{left})$ and\n",
        "$Q(s, \\mathrm{right})$ (where $s$ is the input to the\n",
        "network). In effect, the network is trying to predict the *expected return* of\n",
        "taking each action given the current input.\n",
        "\n",
        "\n"
      ]
    },
    {
      "cell_type": "code",
      "execution_count": null,
      "metadata": {
        "id": "mFL4w7aIRb09"
      },
      "outputs": [],
      "source": [
        "class DQN(nn.Module):\n",
        "\n",
        "    def __init__(self, hidden=16):\n",
        "        super(DQN, self).__init__()\n",
        "        self.linear1 = nn.Linear(1, hidden)\n",
        "        self.linear2 = nn.Linear(hidden, hidden)\n",
        "        self.head = nn.Linear(hidden, m)\n",
        "        self.nb = noisebuffer(2, 0.4)\n",
        "\n",
        "\n",
        "    # Called with either one element to determine next action, or a batch\n",
        "    # during optimization. Returns tensor([[left0exp,right0exp]...]).\n",
        "    def forward(self, s):\n",
        "        x = F.relu(self.linear1(s))\n",
        "        x = F.relu(self.linear2(x))\n",
        "        x = self.head(x)\n",
        "        eps = [self.nb.sample(float(state)) for state in s]\n",
        "        eps = torch.Tensor(eps)\n",
        "        return x + eps"
      ]
    },
    {
      "cell_type": "markdown",
      "metadata": {
        "id": "biAR-XnORb09"
      },
      "source": [
        "Training\n",
        "--------\n",
        "\n",
        "Hyperparameters and utilities\n",
        "^^^^^^^^^^^^^^^^^^^^^^^^^^^^^\n",
        "This cell instantiates our model and its optimizer, and defines some\n",
        "utilities:\n",
        "\n",
        "-  ``select_action`` - will select an action accordingly to an epsilon\n",
        "   greedy policy. Simply put, we'll sometimes use our model for choosing\n",
        "   the action, and sometimes we'll just sample one uniformly. The\n",
        "   probability of choosing a random action will start at ``EPS_START``\n",
        "   and will decay exponentially towards ``EPS_END``. ``EPS_DECAY``\n",
        "   controls the rate of the decay.\n",
        "-  ``plot_durations`` - a helper for plotting the durations of episodes,\n",
        "   along with an average over the last 100 episodes (the measure used in\n",
        "   the official evaluations). The plot will be underneath the cell\n",
        "   containing the main training loop, and will update after every\n",
        "   episode.\n",
        "\n",
        "\n"
      ]
    },
    {
      "cell_type": "code",
      "execution_count": null,
      "metadata": {
        "id": "angVZNjjRb09"
      },
      "outputs": [],
      "source": [
        "BATCH_SIZE = 128\n",
        "GAMMA = 0.999\n",
        "EPS_START = 0.9\n",
        "EPS_END = 0.05\n",
        "EPS_DECAY = 200\n",
        "TARGET_UPDATE = 10\n",
        "\n",
        "policy_net = DQN().to(device)\n",
        "target_net = DQN().to(device)\n",
        "target_net.load_state_dict(policy_net.state_dict())\n",
        "target_net.eval()\n",
        "\n",
        "optimizer = optim.RMSprop(policy_net.parameters())\n",
        "memory = ReplayMemory(10000)\n",
        "\n",
        "\n",
        "steps_done = 0\n",
        "\n",
        "\n",
        "def select_action(state):\n",
        "    global steps_done\n",
        "    sample = random.random()\n",
        "    eps_threshold = EPS_END + (EPS_START - EPS_END) * \\\n",
        "        math.exp(-1. * steps_done / EPS_DECAY)\n",
        "    steps_done += 1\n",
        "    if sample > eps_threshold:\n",
        "        with torch.no_grad():\n",
        "            # t.max(1) will return largest value for column of each row.\n",
        "            # second column on max result is index of where max element was\n",
        "            # found, so we pick action with the larger expected reward.\n",
        "            return policy_net(state).max(1)[1].view(1, 1)\n",
        "    else:\n",
        "        return torch.tensor([[random.randrange(m)]], device=device, dtype=torch.long)\n",
        "\n",
        "\n",
        "episode_durations = []\n",
        "\n",
        "\n",
        "def plot_durations():\n",
        "    plt.figure(2)\n",
        "    plt.clf()\n",
        "    durations_t = torch.tensor(episode_durations, dtype=torch.float)\n",
        "    plt.title('Training...')\n",
        "    plt.xlabel('Episode')\n",
        "    plt.ylabel('Duration')\n",
        "    plt.plot(durations_t.numpy())\n",
        "    # Take 100 episode averages and plot them too\n",
        "    if len(durations_t) >= 100:\n",
        "        means = durations_t.unfold(0, 100, 1).mean(1).view(-1)\n",
        "        means = torch.cat((torch.zeros(99), means))\n",
        "        plt.plot(means.numpy())\n",
        "\n",
        "    plt.pause(0.001)  # pause a bit so that plots are updated\n",
        "    if is_ipython:\n",
        "        display.clear_output(wait=True)\n",
        "        display.display(plt.gcf())"
      ]
    },
    {
      "cell_type": "markdown",
      "metadata": {
        "id": "_tDguxRpRb0-"
      },
      "source": [
        "Training loop\n",
        "=========================\n",
        "\n",
        "Finally, the code for training our model.\n",
        "\n",
        "Here, you can find an ``optimize_model`` function that performs a\n",
        "single step of the optimization. It first samples a batch, concatenates\n",
        "all the tensors into a single one, computes $Q(s_t, a_t)$ and\n",
        "$V(s_{t+1}) = \\max_a Q(s_{t+1}, a)$, and combines them into our\n",
        "loss. By defition we set $V(s) = 0$ if $s$ is a terminal\n",
        "state. We also use a target network to compute $V(s_{t+1})$ for\n",
        "added stability. The target network has its weights kept frozen most of\n",
        "the time, but is updated with the policy network's weights every so often.\n",
        "This is usually a set number of steps but we shall use episodes for\n",
        "simplicity.\n",
        "\n",
        "\n"
      ]
    },
    {
      "cell_type": "code",
      "execution_count": null,
      "metadata": {
        "id": "-fxGcmg2Rb0-",
        "colab": {
          "base_uri": "https://localhost:8080/"
        },
        "outputId": "b436be1d-313a-43cf-afe2-2bfbe54a5fa7"
      },
      "outputs": [
        {
          "output_type": "stream",
          "name": "stderr",
          "text": [
            "/usr/local/lib/python3.10/dist-packages/ipykernel/ipkernel.py:283: DeprecationWarning: `should_run_async` will not call `transform_cell` automatically in the future. Please pass the result to `transformed_cell` argument and any exception that happen during thetransform in `preprocessing_exc_tuple` in IPython 7.17 and above.\n",
            "  and should_run_async(code)\n"
          ]
        }
      ],
      "source": [
        "def optimize_model():\n",
        "    if len(memory) < BATCH_SIZE:\n",
        "        return\n",
        "    transitions = memory.sample(BATCH_SIZE)\n",
        "    # Transpose the batch (see https://stackoverflow.com/a/19343/3343043 for\n",
        "    # detailed explanation). This converts batch-array of Transitions\n",
        "    # to Transition of batch-arrays.\n",
        "    batch = Transition(*zip(*transitions))\n",
        "\n",
        "    # Compute a mask of non-final states and concatenate the batch elements\n",
        "    # (a final state would've been the one after which simulation ended)\n",
        "    non_final_mask =\n",
        "\n",
        "    #####################\n",
        "    #Your code goes here\n",
        "    #####################\n",
        "    non_final_next_states =\n",
        "\n",
        "    #####################\n",
        "    #Your code goes here\n",
        "    #####################\n",
        "    state_batch = torch.cat(batch.state)\n",
        "    action_batch = torch.cat(batch.action)\n",
        "    #import pdb; pdb.set_trace()\n",
        "    reward_batch = torch.cat(batch.reward)\n",
        "\n",
        "    # Compute Q(s_t, a) - the model computes Q(s_t), then we select the\n",
        "    # columns of actions taken. These are the actions which would've been taken\n",
        "    # for each batch state according to policy_net\n",
        "    state_action_values = policy_net(state_batch).gather(1, action_batch)\n",
        "\n",
        "    # Compute V(s_{t+1}) for all next states.\n",
        "    # Expected values of actions for non_final_next_states are computed based\n",
        "    # on the \"older\" target_net; selecting their best reward with max(1)[0].\n",
        "    # This is merged based on the mask, such that we'll have either the expected\n",
        "    # state value or 0 in case the state was final.\n",
        "    next_state_values = torch.zeros(BATCH_SIZE, device=device)\n",
        "    next_state_values[non_final_mask] = target_net(non_final_next_states).max(1)[0].detach()\n",
        "    # Compute the expected Q values\n",
        "    expected_state_action_values =\n",
        "    #####################\n",
        "    #Your code goes here\n",
        "    #####################\n",
        "\n",
        "    # Compute Huber loss\n",
        "    loss =\n",
        "    #####################\n",
        "        #Your code goes here\n",
        "        #####################\n",
        "\n",
        "    # Optimize the model\n",
        "    optimizer.zero_grad()\n",
        "    loss.backward()\n",
        "    for param in policy_net.parameters():\n",
        "        param.grad.data.clamp_(-1, 1)\n",
        "    optimizer.step()"
      ]
    },
    {
      "cell_type": "markdown",
      "metadata": {
        "id": "K81iE5JJRb0-"
      },
      "source": [
        "Below, you can find the main training loop. At the beginning we reset\n",
        "the environment and initialize the ``state`` Tensor. Then, we sample\n",
        "an action, execute it, observe the next state and the reward (always\n",
        "1), and optimize our model once. When the episode ends (our model\n",
        "fails), we restart the loop.\n",
        "\n",
        "Below, `num_episodes` is set small. You should download\n",
        "the notebook and run lot more epsiodes, such as 300+ for meaningful\n",
        "duration improvements.\n",
        "\n",
        "\n"
      ]
    },
    {
      "cell_type": "code",
      "execution_count": null,
      "metadata": {
        "id": "bTOXBgviRb0-",
        "colab": {
          "base_uri": "https://localhost:8080/"
        },
        "outputId": "eb898933-cb77-411e-d6da-02d2639e6898"
      },
      "outputs": [
        {
          "output_type": "stream",
          "name": "stderr",
          "text": [
            "<ipython-input-3-83cbe731b097>:26: DeprecationWarning: Conversion of an array with ndim > 0 to a scalar is deprecated, and will error in future. Ensure you extract a single element from your array before performing this operation. (Deprecated NumPy 1.25.)\n",
            "  reward = float(0.5 - np.abs(self.state-0.5))\n",
            "<ipython-input-10-436da2c72313>:32: UserWarning: indexing with dtype torch.uint8 is now deprecated, please use a dtype torch.bool instead. (Triggered internally at ../aten/src/ATen/native/IndexingUtils.h:27.)\n",
            "  next_state_values[non_final_mask] = target_net(non_final_next_states).max(1)[0].detach()\n"
          ]
        },
        {
          "output_type": "stream",
          "name": "stdout",
          "text": [
            "0\n",
            "10\n",
            "20\n",
            "30\n",
            "40\n",
            "50\n",
            "60\n",
            "70\n",
            "80\n",
            "90\n",
            "Complete\n"
          ]
        }
      ],
      "source": [
        "num_episodes = 100\n",
        "episodic_rewards = []\n",
        "for i_episode in range(num_episodes):\n",
        "    if i_episode % 10 == 0:\n",
        "        print(i_episode)\n",
        "    # Initialize the environment and state\n",
        "    state = torch.Tensor(env.reset()).unsqueeze(0)\n",
        "    total_reward = 0\n",
        "    for t in count():\n",
        "        # Select and perform an action\n",
        "        action = select_action(state)\n",
        "        next_state, reward, done, info = env.step(action.item())\n",
        "        reward = torch.tensor([reward], device=device)\n",
        "\n",
        "        if not done:\n",
        "            next_state = torch.Tensor(next_state).unsqueeze(0)\n",
        "        else:\n",
        "            next_state = None\n",
        "\n",
        "        # Store the transition in memory\n",
        "        memory.push(state, action, next_state, reward)\n",
        "        #import pdb; pdb.set_trace()\n",
        "        total_reward += float(reward.squeeze(0).data)\n",
        "\n",
        "        # Move to the next state\n",
        "        state = next_state\n",
        "\n",
        "        # Perform one step of the optimization (on the target network)\n",
        "        optimize_model()\n",
        "        if done:\n",
        "            episode_durations.append(t + 1)\n",
        "            #plot_durations()\n",
        "            break\n",
        "    # Update the target network, copying all weights and biases in DQN\n",
        "    if i_episode % TARGET_UPDATE == 0:\n",
        "        target_net.load_state_dict(policy_net.state_dict())\n",
        "    episodic_rewards.append(total_reward)\n",
        "    #policy_net.nb.reset()\n",
        "    #target_net.nb.reset()\n",
        "\n",
        "print('Complete')\n",
        "plt.ioff()\n",
        "plt.show()"
      ]
    },
    {
      "cell_type": "code",
      "execution_count": null,
      "metadata": {
        "id": "xiK2mGv1Rb0-",
        "colab": {
          "base_uri": "https://localhost:8080/",
          "height": 430
        },
        "outputId": "444b1044-97c5-4fc7-f242-896008985dd0"
      },
      "outputs": [
        {
          "output_type": "display_data",
          "data": {
            "text/plain": [
              "<Figure size 640x480 with 1 Axes>"
            ],
            "image/png": "[encoded data removed]"
          },
          "metadata": {}
        }
      ],
      "source": [
        "plt.plot(episodic_rewards)\n",
        "plt.show()"
      ]
    },
    {
      "cell_type": "code",
      "execution_count": null,
      "metadata": {
        "id": "Yxc_2Px7Rb0-",
        "colab": {
          "base_uri": "https://localhost:8080/"
        },
        "outputId": "9bc074af-7f21-48d6-e307-a349e86d08a3"
      },
      "outputs": [
        {
          "output_type": "execute_result",
          "data": {
            "text/plain": [
              "tensor([[8.7290, 8.1188]], grad_fn=<AddBackward0>)"
            ]
          },
          "metadata": {},
          "execution_count": 13
        }
      ],
      "source": [
        "state = torch.Tensor(env.reset()).unsqueeze(0)\n",
        "policy_net(state)"
      ]
    },
    {
      "cell_type": "code",
      "execution_count": null,
      "metadata": {
        "id": "17hxf6GORb0-",
        "colab": {
          "base_uri": "https://localhost:8080/"
        },
        "outputId": "bf683628-7933-4288-95f4-a80416fce8bf"
      },
      "outputs": [
        {
          "output_type": "stream",
          "name": "stdout",
          "text": [
            "[11.210192017257214, 5.789667807519436, 3.7019783202558756, 12.16593757783994, 15.90492209047079, 16.74672183394432, 15.330607613548636, 18.129511691629887, 18.667399153113365, 16.961162630468607, 15.785146726295352, 16.490255065262318, 18.148310020565987, 17.330419197678566, 15.68991726404056, 15.502887099981308, 18.29928931593895, 17.74358554929495, 17.0265039652586, 18.591218173503876, 19.35616859793663, 17.830298602581024, 18.703265115618706, 18.576822102069855, 18.734123654663563, 18.872401118278503, 17.782804012298584, 19.50846567749977, 19.796819642186165, 18.90910665690899, 18.743654787540436, 16.237282196059823, 16.654140956699848, 16.320892959833145, 16.287513256072998, 16.73784901574254, 16.50734280794859, 16.615423530340195, 18.192084416747093, 18.135568141937256, 16.310486905276775, 15.786290489137173, 17.036785811185837, 17.209748148918152, 15.320347882807255, 17.00733122229576, 16.717873081564903, 16.891591161489487, 17.28366094827652, 17.535548150539398, 17.480584129691124, 16.551880910992622, 15.036771692335606, 17.28396102786064, 14.880498610436916, 15.449699118733406, 16.530336305499077, 16.1923164203763, 15.087972566485405, 15.714403167366982, 16.456456184387207, 13.566062368452549, 14.059926326357527, 12.747588563710451, 12.66308775730431, 13.119114014320076, 13.074198976159096, 11.368470173329115, 13.041436600964516, 11.470915090292692, 15.121382996439934, 9.721219252794981, 8.665907055139542, 10.790152193978429, 10.336777940392494, 9.520788732916117, 10.703645586967468, 10.24676464451477, 11.738922882825136, 11.497340423986316, 11.981318637728691, 7.549786623567343, 6.850733087398112, 9.385777907446027, 7.889618618646637, 5.734241139143705, 2.896288514137268, 2.611556001007557, 1.616770701482892, 1.9290563385002315, 0.41970771085470915, 6.99401231110096, 4.411765648517758, 3.725378043949604, 5.407030493021011, 4.271114096976817, 0.502494677901268, 4.206089749932289, 4.439691063016653, 2.720234178006649]\n"
          ]
        }
      ],
      "source": [
        "print(episodic_rewards)\n",
        "with open('dpql.txt', 'a') as fw:\n",
        "    for rr in episodic_rewards:\n",
        "        fw.write(str(rr))\n",
        "        fw.write(' ')\n",
        "    fw.write('\\n')"
      ]
    },
    {
      "cell_type": "markdown",
      "source": [
        "### References\n",
        "\n",
        "\n",
        "1. [https://github.com/wangbx66/differentially-private-q-learning](https://github.com/wangbx66/differentially-private-q-learning)\n",
        "2. https://proceedings.neurips.cc/paper_files/paper/2019/file/6646b06b90bd13dabc11ddba01270d23-Paper.pdf\n",
        "\n"
      ],
      "metadata": {
        "id": "FeO1iQ7BqEBg"
      }
    }
  ],
  "metadata": {
    "kernelspec": {
      "display_name": "Python 3",
      "name": "python3"
    },
    "language_info": {
      "codemirror_mode": {
        "name": "ipython",
        "version": 3
      },
      "file_extension": ".py",
      "mimetype": "text/x-python",
      "name": "python",
      "nbconvert_exporter": "python",
      "pygments_lexer": "ipython3",
      "version": "3.6.6"
    },
    "colab": {
      "provenance": [],
      "gpuType": "T4",
      "include_colab_link": true
    },
    "accelerator": "GPU"
  },
  "nbformat": 4,
  "nbformat_minor": 0
}