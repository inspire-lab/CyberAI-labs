{
  "nbformat": 4,
  "nbformat_minor": 0,
  "metadata": {
    "colab": {
      "provenance": [],
      "include_colab_link": true
    },
    "kernelspec": {
      "name": "python3",
      "display_name": "Python 3"
    },
    "accelerator": "GPU"
  },
  "cells": [
    {
      "cell_type": "markdown",
      "metadata": {
        "id": "view-in-github",
        "colab_type": "text"
      },
      "source": [
        "<a href=\"https://colab.research.google.com/github/inspire-lab/CyberAI-labs/blob/main/category-PrivateAI/Differentially-private-federated-learning/DPFL.ipynb\" target=\"_parent\"><img src=\"https://colab.research.google.com/assets/colab-badge.svg\" alt=\"Open In Colab\"/></a>"
      ]
    },
    {
      "cell_type": "markdown",
      "source": [
        "# Integrating Differential Privacy with Federated Learning using Opacus"
      ],
      "metadata": {
        "id": "FvhCUCoQksKd"
      }
    },
    {
      "cell_type": "markdown",
      "source": [
        "[Opacus](https://opacus.ai/) is a library that enables training PyTorch models with differential privacy. It supports training with minimal code changes required on the client, has little impact on training performance, and allows the client to online track the privacy budget expended at any given moment."
      ],
      "metadata": {
        "id": "TujTN064k9Q2"
      }
    },
    {
      "cell_type": "code",
      "metadata": {
        "id": "rc1d8c5xSxPY",
        "colab": {
          "base_uri": "https://localhost:8080/"
        },
        "outputId": "0da50f92-c793-4f54-d2fd-4513d60d828d"
      },
      "source": [
        "!pip install opacus==1.5.2"
      ],
      "execution_count": null,
      "outputs": [
        {
          "output_type": "stream",
          "name": "stdout",
          "text": [
            "Collecting opacus==1.5.2\n",
            "  Downloading opacus-1.5.2-py3-none-any.whl.metadata (7.9 kB)\n",
            "Requirement already satisfied: numpy<2.0,>=1.15 in /usr/local/lib/python3.10/dist-packages (from opacus==1.5.2) (1.26.4)\n",
            "Requirement already satisfied: torch>=2.0 in /usr/local/lib/python3.10/dist-packages (from opacus==1.5.2) (2.5.1+cu121)\n",
            "Requirement already satisfied: scipy>=1.2 in /usr/local/lib/python3.10/dist-packages (from opacus==1.5.2) (1.13.1)\n",
            "Requirement already satisfied: opt-einsum>=3.3.0 in /usr/local/lib/python3.10/dist-packages (from opacus==1.5.2) (3.4.0)\n",
            "Requirement already satisfied: filelock in /usr/local/lib/python3.10/dist-packages (from torch>=2.0->opacus==1.5.2) (3.16.1)\n",
            "Requirement already satisfied: typing-extensions>=4.8.0 in /usr/local/lib/python3.10/dist-packages (from torch>=2.0->opacus==1.5.2) (4.12.2)\n",
            "Requirement already satisfied: networkx in /usr/local/lib/python3.10/dist-packages (from torch>=2.0->opacus==1.5.2) (3.4.2)\n",
            "Requirement already satisfied: jinja2 in /usr/local/lib/python3.10/dist-packages (from torch>=2.0->opacus==1.5.2) (3.1.4)\n",
            "Requirement already satisfied: fsspec in /usr/local/lib/python3.10/dist-packages (from torch>=2.0->opacus==1.5.2) (2024.10.0)\n",
            "Requirement already satisfied: sympy==1.13.1 in /usr/local/lib/python3.10/dist-packages (from torch>=2.0->opacus==1.5.2) (1.13.1)\n",
            "Requirement already satisfied: mpmath<1.4,>=1.1.0 in /usr/local/lib/python3.10/dist-packages (from sympy==1.13.1->torch>=2.0->opacus==1.5.2) (1.3.0)\n",
            "Requirement already satisfied: MarkupSafe>=2.0 in /usr/local/lib/python3.10/dist-packages (from jinja2->torch>=2.0->opacus==1.5.2) (3.0.2)\n",
            "Downloading opacus-1.5.2-py3-none-any.whl (239 kB)\n",
            "\u001b[?25l   \u001b[90m━━━━━━━━━━━━━━━━━━━━━━━━━━━━━━━━━━━━━━━━\u001b[0m \u001b[32m0.0/239.9 kB\u001b[0m \u001b[31m?\u001b[0m eta \u001b[36m-:--:--\u001b[0m\r\u001b[2K   \u001b[90m━━━━━━━━━━━━━━━━━━━━━━━━━━━━━━━━━━━━━━━━\u001b[0m \u001b[32m239.9/239.9 kB\u001b[0m \u001b[31m13.2 MB/s\u001b[0m eta \u001b[36m0:00:00\u001b[0m\n",
            "\u001b[?25hInstalling collected packages: opacus\n",
            "Successfully installed opacus-1.5.2\n"
          ]
        }
      ]
    },
    {
      "cell_type": "code",
      "metadata": {
        "id": "7iDtYlKCS1bS"
      },
      "source": [
        "from opacus import PrivacyEngine"
      ],
      "execution_count": null,
      "outputs": []
    },
    {
      "cell_type": "code",
      "metadata": {
        "id": "8fXINQJyCQwC"
      },
      "source": [
        "import torch\n",
        "import torch.nn as nn\n",
        "import torch.nn.functional as F\n",
        "import torch.optim as optim\n",
        "from torchvision import datasets, transforms\n",
        "import numpy as np\n",
        "from tqdm import tqdm"
      ],
      "execution_count": null,
      "outputs": []
    },
    {
      "cell_type": "code",
      "metadata": {
        "id": "__wy5V8HEuYp"
      },
      "source": [
        "class Net(nn.Module):\n",
        "    def __init__(self):\n",
        "        super(Net, self).__init__()\n",
        "        self.conv1 = nn.Conv2d(1, 32, kernel_size=3, stride=2, padding=1)\n",
        "        self.conv2 = nn.Conv2d(32, 64, kernel_size=3, stride=2, padding=1)\n",
        "        self.conv3 = nn.Conv2d(64, 128, kernel_size=3, stride=2, padding=1)\n",
        "        self.fc1 = nn.Linear(2048, 128)\n",
        "        self.fc2 = nn.Linear(128, 10)\n",
        "        # self.conv1 = nn.Conv2d(1, 10, kernel_size=5)\n",
        "        # self.conv2 = nn.Conv2d(10, 20, kernel_size=5)\n",
        "        # self.conv2_drop = nn.Dropout2d()\n",
        "        # self.fc1 = nn.Linear(320, 50)\n",
        "        # self.fc2 = nn.Linear(50, 10)\n",
        "\n",
        "    def forward(self, x):\n",
        "        x = self.conv1(x)\n",
        "        x = F.relu(x)\n",
        "        x = self.conv2(x)\n",
        "        x = F.relu(x)\n",
        "        x = self.conv3(x)\n",
        "        x = F.relu(x)\n",
        "        x = torch.flatten(x, 1)\n",
        "        x = self.fc1(x)\n",
        "        x = F.relu(x)\n",
        "        x = self.fc2(x)\n",
        "        output = F.log_softmax(x, dim=1)\n",
        "        return output\n",
        "        # x = F.relu(F.max_pool2d(self.conv1(x), 2))\n",
        "        # x = F.relu(F.max_pool2d(self.conv2_drop(self.conv2(x)), 2))\n",
        "        # x = x.view(-1, 320)\n",
        "        # x = F.relu(self.fc1(x))\n",
        "        # x = F.dropout(x, training=self.training)\n",
        "        # x = self.fc2(x)\n",
        "        # return F.log_softmax(x)\n"
      ],
      "execution_count": null,
      "outputs": []
    },
    {
      "cell_type": "code",
      "metadata": {
        "id": "TDgMzg7CQ0kb"
      },
      "source": [
        "\n",
        "# IID case: all the clients have images of all the classes\n",
        "\n",
        "# Hyperparameters\n",
        "\n",
        "num_clients = 10\n",
        "num_selected = 5\n",
        "Epoch = 10 # try for 50 epochs\n",
        "iter_per_client = 10\n",
        "batch_size = 32\n",
        "\n",
        "pre_delta=1e-5\n",
        "momentum=0.5\n",
        "pre_lr=1e-2\n",
        "EPSILON = 50.0\n",
        "\n",
        "MAX_GRAD=1.5\n",
        "NOISE_MUL=1.5"
      ],
      "execution_count": null,
      "outputs": []
    },
    {
      "cell_type": "code",
      "metadata": {
        "id": "73vre2nBFUy5"
      },
      "source": [
        "def client_update(client_model, optimizer, train_loader, privacy_engine, epoch=5, delta=1e-5):\n",
        "    model.train()\n",
        "    criterion = nn.CrossEntropyLoss()\n",
        "\n",
        "    for e in range(epoch):\n",
        "        losses = []\n",
        "        for batch_idx, (data, target) in enumerate(train_loader):\n",
        "            data = data.to(\"cuda\")\n",
        "            target = target.to(\"cuda\")\n",
        "\n",
        "            optimizer.zero_grad()\n",
        "\n",
        "            output = client_model(data)\n",
        "            loss = criterion(output, target)\n",
        "\n",
        "            loss.backward()\n",
        "            optimizer.step()\n",
        "\n",
        "            losses.append(loss.item()) ###########\n",
        "\n",
        "    epsilon = privacy_engine.get_epsilon(delta)\n",
        "    print(f\"[client_i]\\t\"\n",
        "                  f\"Train Epoch: {e} \\t\"\n",
        "                  f\"Loss: {sum(losses)/len(losses):.4f} \"\n",
        "                  f\"(ε = {epsilon}, δ = {delta})\")\n",
        "    # print('Epsilon={}'.format(epsilon))\n",
        "\n",
        "    return loss.item(), epsilon\n",
        "\n",
        "def server_aggregate(global_model, client_models):\n",
        "    global_dict = global_model.state_dict()\n",
        "    for k in global_dict.keys():\n",
        "        global_dict[k] = torch.stack([client_models[i].state_dict()[k] for i in range(len(client_models))], 0).mean(0)\n",
        "    global_model.load_state_dict(global_dict)\n",
        "    for model in client_models:\n",
        "        model.load_state_dict(global_model.state_dict())"
      ],
      "execution_count": null,
      "outputs": []
    },
    {
      "cell_type": "code",
      "metadata": {
        "id": "jqpi21ZRQyJ5"
      },
      "source": [
        "def test(global_model, test_loader):\n",
        "    model.eval()\n",
        "    test_loss = 0\n",
        "    correct = 0\n",
        "    with torch.no_grad():\n",
        "        for data, target in test_loader:\n",
        "            data, target = data.cuda(), target.cuda()\n",
        "            output = global_model(data)\n",
        "            test_loss += F.nll_loss(output, target, reduction='sum').item()  # sum up batch loss\n",
        "            pred = output.argmax(dim=1, keepdim=True)  # get the index of the max log-probability\n",
        "            correct += pred.eq(target.view_as(pred)).sum().item()\n",
        "\n",
        "    test_loss /= len(test_loader.dataset)\n",
        "    acc = correct / len(test_loader.dataset)\n",
        "\n",
        "    return test_loss, acc"
      ],
      "execution_count": null,
      "outputs": []
    },
    {
      "cell_type": "code",
      "metadata": {
        "id": "W7KyzpdBQ71v",
        "colab": {
          "base_uri": "https://localhost:8080/"
        },
        "outputId": "f9756b08-7585-446f-b6f3-e03d6817b37d"
      },
      "source": [
        "# Creating decentralized datasets\n",
        "# download dataset\n",
        "traindata = datasets.MNIST('./data', train=True, download=True,\n",
        "                       transform=transforms.Compose([transforms.ToTensor(),transforms.Normalize((0.1307,), (0.3081,))])\n",
        "                       )\n",
        "\n",
        "# split dataset\n",
        "traindata_split = torch.utils.data.random_split(traindata, [int(traindata.data.shape[0] / num_clients) for _ in range(num_clients)])\n",
        "# train_loaders\n",
        "train_loader_ls = [torch.utils.data.DataLoader(x, batch_size=batch_size, shuffle=True) for x in traindata_split]\n",
        "\n",
        "test_loader = torch.utils.data.DataLoader(\n",
        "        datasets.MNIST('./data', train=False, transform=transforms.Compose([transforms.ToTensor(),transforms.Normalize((0.1307,), (0.3081,))])\n",
        "        ), batch_size=batch_size, shuffle=True)"
      ],
      "execution_count": null,
      "outputs": [
        {
          "output_type": "stream",
          "name": "stdout",
          "text": [
            "Downloading http://yann.lecun.com/exdb/mnist/train-images-idx3-ubyte.gz\n",
            "Failed to download (trying next):\n",
            "HTTP Error 403: Forbidden\n",
            "\n",
            "Downloading https://ossci-datasets.s3.amazonaws.com/mnist/train-images-idx3-ubyte.gz\n",
            "Downloading https://ossci-datasets.s3.amazonaws.com/mnist/train-images-idx3-ubyte.gz to ./data/MNIST/raw/train-images-idx3-ubyte.gz\n"
          ]
        },
        {
          "output_type": "stream",
          "name": "stderr",
          "text": [
            "100%|██████████| 9.91M/9.91M [00:02<00:00, 4.16MB/s]\n"
          ]
        },
        {
          "output_type": "stream",
          "name": "stdout",
          "text": [
            "Extracting ./data/MNIST/raw/train-images-idx3-ubyte.gz to ./data/MNIST/raw\n",
            "\n",
            "Downloading http://yann.lecun.com/exdb/mnist/train-labels-idx1-ubyte.gz\n",
            "Failed to download (trying next):\n",
            "HTTP Error 403: Forbidden\n",
            "\n",
            "Downloading https://ossci-datasets.s3.amazonaws.com/mnist/train-labels-idx1-ubyte.gz\n",
            "Downloading https://ossci-datasets.s3.amazonaws.com/mnist/train-labels-idx1-ubyte.gz to ./data/MNIST/raw/train-labels-idx1-ubyte.gz\n"
          ]
        },
        {
          "output_type": "stream",
          "name": "stderr",
          "text": [
            "100%|██████████| 28.9k/28.9k [00:00<00:00, 58.4kB/s]\n"
          ]
        },
        {
          "output_type": "stream",
          "name": "stdout",
          "text": [
            "Extracting ./data/MNIST/raw/train-labels-idx1-ubyte.gz to ./data/MNIST/raw\n",
            "\n",
            "Downloading http://yann.lecun.com/exdb/mnist/t10k-images-idx3-ubyte.gz\n",
            "Failed to download (trying next):\n",
            "HTTP Error 403: Forbidden\n",
            "\n",
            "Downloading https://ossci-datasets.s3.amazonaws.com/mnist/t10k-images-idx3-ubyte.gz\n",
            "Downloading https://ossci-datasets.s3.amazonaws.com/mnist/t10k-images-idx3-ubyte.gz to ./data/MNIST/raw/t10k-images-idx3-ubyte.gz\n"
          ]
        },
        {
          "output_type": "stream",
          "name": "stderr",
          "text": [
            "100%|██████████| 1.65M/1.65M [00:01<00:00, 1.27MB/s]\n"
          ]
        },
        {
          "output_type": "stream",
          "name": "stdout",
          "text": [
            "Extracting ./data/MNIST/raw/t10k-images-idx3-ubyte.gz to ./data/MNIST/raw\n",
            "\n",
            "Downloading http://yann.lecun.com/exdb/mnist/t10k-labels-idx1-ubyte.gz\n",
            "Failed to download (trying next):\n",
            "HTTP Error 403: Forbidden\n",
            "\n",
            "Downloading https://ossci-datasets.s3.amazonaws.com/mnist/t10k-labels-idx1-ubyte.gz\n",
            "Downloading https://ossci-datasets.s3.amazonaws.com/mnist/t10k-labels-idx1-ubyte.gz to ./data/MNIST/raw/t10k-labels-idx1-ubyte.gz\n"
          ]
        },
        {
          "output_type": "stream",
          "name": "stderr",
          "text": [
            "100%|██████████| 4.54k/4.54k [00:00<00:00, 4.14MB/s]"
          ]
        },
        {
          "output_type": "stream",
          "name": "stdout",
          "text": [
            "Extracting ./data/MNIST/raw/t10k-labels-idx1-ubyte.gz to ./data/MNIST/raw\n",
            "\n"
          ]
        },
        {
          "output_type": "stream",
          "name": "stderr",
          "text": [
            "\n"
          ]
        }
      ]
    },
    {
      "cell_type": "code",
      "metadata": {
        "id": "32KdvSeoUunh",
        "colab": {
          "base_uri": "https://localhost:8080/"
        },
        "outputId": "cbbe410f-cc4e-4b5b-c093-0ea8d7ca73bb"
      },
      "source": [
        "client_models, optimizers, DP_dataloader_ls, privacy_engine_ls = [], [], [], []\n",
        "\n",
        "for client in range(num_clients):\n",
        "    model=Net().to(\"cuda\")\n",
        "\n",
        "    optimizer = optim.RMSprop(model.parameters(), lr=pre_lr)\n",
        "\n",
        "    data=train_loader_ls[client]\n",
        "\n",
        "    privacy_engine = PrivacyEngine()\n",
        "    model, optimizer, train_loader =\n",
        "\n",
        "    #####################\n",
        "    #Your code goes here\n",
        "    #####################\n",
        "    client_models.append(model)\n",
        "    # dataloaders.append(dataloader)\n",
        "    optimizers.append(optimizer)\n",
        "    privacy_engine_ls.append(privacy_engine)\n",
        "    DP_dataloader_ls.append(train_loader)\n",
        "    # print(f\"Using sigma={optimizer.noise_multiplier} and C={MAX_GRAD}\")"
      ],
      "execution_count": null,
      "outputs": [
        {
          "output_type": "stream",
          "name": "stderr",
          "text": [
            "/usr/local/lib/python3.10/dist-packages/opacus/privacy_engine.py:95: UserWarning: Secure RNG turned off. This is perfectly fine for experimentation as it allows for much faster training performance, but remember to turn it on and retrain one last time before production with ``secure_mode`` turned on.\n",
            "  warnings.warn(\n",
            "/usr/local/lib/python3.10/dist-packages/opacus/accountants/analysis/rdp.py:332: UserWarning: Optimal order is the largest alpha. Please consider expanding the range of alphas to get a tighter privacy bound.\n",
            "  warnings.warn(\n"
          ]
        }
      ]
    },
    {
      "cell_type": "code",
      "metadata": {
        "id": "HdcGdw9URBAJ",
        "colab": {
          "base_uri": "https://localhost:8080/"
        },
        "outputId": "cadd1401-7ec5-44dc-eb76-cde77f2bb86e"
      },
      "source": [
        "# Instantiate models and optimizers\n",
        "\n",
        "global_model = client_models[0]\n",
        "\n",
        "# client_models = [Net().cuda() for _ in range(num_selected)]\n",
        "# for model in client_models:\n",
        "#     model_params=global_model.state_dict()\n",
        "#     model.load_state_dict(model_params)\n",
        "\n",
        "# opt = [optim.SGD(model.parameters(), lr=0.1) for model in client_models]\n",
        "\n",
        "# Runnining FL\n",
        "test_acc, test_losses, epsilon = [], [], []\n",
        "\n",
        "for r in range(Epoch):\n",
        "    # select random clients\n",
        "    client_idx = np.random.permutation(num_clients)[:num_selected]\n",
        "\n",
        "    # client update\n",
        "    loss = 0\n",
        "    eps_ls=[]\n",
        "    for i in range(num_selected):\n",
        "        loss, eps= client_update(#####################\n",
        "    #Your code goes here\n",
        "    #####################)\n",
        "\n",
        "        loss+=loss\n",
        "        eps_ls.append(eps)\n",
        "\n",
        "    # serer aggregate\n",
        "    server_aggregate(global_model, client_models)\n",
        "    test_loss, acc = test(global_model, test_loader)\n",
        "\n",
        "    test_acc.append(acc)\n",
        "    test_losses.append(test_loss)\n",
        "    epsilon.append(max(eps_ls))\n",
        "    print('%d-th round' % r)\n",
        "    print('average train loss %0.3g | test loss %0.3g | test acc: %0.3f | epsilon: %0.3f' % (loss / num_selected, test_loss, acc, max(eps_ls)))"
      ],
      "execution_count": null,
      "outputs": [
        {
          "output_type": "stream",
          "name": "stderr",
          "text": [
            "/usr/local/lib/python3.10/dist-packages/torch/nn/modules/module.py:1827: FutureWarning: Using a non-full backward hook when the forward contains multiple autograd Nodes is deprecated and will be removed in future versions. This hook will be missing some grad_input. Please use register_full_backward_hook to get the documented behavior.\n",
            "  self._maybe_warn_non_full_backward_hook(args, result, grad_fn)\n"
          ]
        },
        {
          "output_type": "stream",
          "name": "stdout",
          "text": [
            "[client_i]\tTrain Epoch: 9 \tLoss: 14.2907 (ε = 49.999780894461985, δ = 1e-05)\n",
            "[client_i]\tTrain Epoch: 9 \tLoss: 10.2696 (ε = 49.999780894461985, δ = 1e-05)\n",
            "[client_i]\tTrain Epoch: 9 \tLoss: 8.3628 (ε = 49.999780894461985, δ = 1e-05)\n",
            "[client_i]\tTrain Epoch: 9 \tLoss: 9.0449 (ε = 49.999780894461985, δ = 1e-05)\n",
            "[client_i]\tTrain Epoch: 9 \tLoss: 10.9035 (ε = 49.999780894461985, δ = 1e-05)\n",
            "0-th round\n",
            "average train loss 3.21 | test loss 2.33 | test acc: 0.102 | epsilon: 50.000\n",
            "[client_i]\tTrain Epoch: 9 \tLoss: 3.8684 (ε = 49.999780894461985, δ = 1e-05)\n",
            "[client_i]\tTrain Epoch: 9 \tLoss: 4.8050 (ε = 49.999780894461985, δ = 1e-05)\n",
            "[client_i]\tTrain Epoch: 9 \tLoss: 4.6902 (ε = 71.70381726303943, δ = 1e-05)\n",
            "[client_i]\tTrain Epoch: 9 \tLoss: 7.5805 (ε = 71.70381726303943, δ = 1e-05)\n",
            "[client_i]\tTrain Epoch: 9 \tLoss: 4.9159 (ε = 71.70381726303943, δ = 1e-05)\n",
            "1-th round\n",
            "average train loss 0.77 | test loss 2.31 | test acc: 0.120 | epsilon: 71.704\n",
            "[client_i]\tTrain Epoch: 9 \tLoss: 2.9916 (ε = 90.470481103379, δ = 1e-05)\n",
            "[client_i]\tTrain Epoch: 9 \tLoss: 3.0612 (ε = 71.70381726303943, δ = 1e-05)\n",
            "[client_i]\tTrain Epoch: 9 \tLoss: 3.3108 (ε = 90.470481103379, δ = 1e-05)\n",
            "[client_i]\tTrain Epoch: 9 \tLoss: 2.6977 (ε = 71.70381726303943, δ = 1e-05)\n",
            "[client_i]\tTrain Epoch: 9 \tLoss: 2.7879 (ε = 49.999780894461985, δ = 1e-05)\n",
            "2-th round\n",
            "average train loss 0.613 | test loss 2.18 | test acc: 0.195 | epsilon: 90.470\n",
            "[client_i]\tTrain Epoch: 9 \tLoss: 2.2772 (ε = 90.470481103379, δ = 1e-05)\n",
            "[client_i]\tTrain Epoch: 9 \tLoss: 1.9167 (ε = 71.70381726303943, δ = 1e-05)\n",
            "[client_i]\tTrain Epoch: 9 \tLoss: 2.3798 (ε = 71.70381726303943, δ = 1e-05)\n",
            "[client_i]\tTrain Epoch: 9 \tLoss: 2.2125 (ε = 90.470481103379, δ = 1e-05)\n",
            "[client_i]\tTrain Epoch: 9 \tLoss: 2.2100 (ε = 90.470481103379, δ = 1e-05)\n",
            "3-th round\n",
            "average train loss 0.906 | test loss 1.52 | test acc: 0.506 | epsilon: 90.470\n",
            "[client_i]\tTrain Epoch: 9 \tLoss: 2.4688 (ε = 107.73404164903467, δ = 1e-05)\n",
            "[client_i]\tTrain Epoch: 9 \tLoss: 2.3784 (ε = 90.470481103379, δ = 1e-05)\n",
            "[client_i]\tTrain Epoch: 9 \tLoss: 1.9821 (ε = 107.73404164903467, δ = 1e-05)\n",
            "[client_i]\tTrain Epoch: 9 \tLoss: 2.0277 (ε = 107.73404164903467, δ = 1e-05)\n",
            "[client_i]\tTrain Epoch: 9 \tLoss: 2.5973 (ε = 49.999780894461985, δ = 1e-05)\n",
            "4-th round\n",
            "average train loss 0.924 | test loss 0.841 | test acc: 0.741 | epsilon: 107.734\n",
            "[client_i]\tTrain Epoch: 9 \tLoss: 1.6729 (ε = 71.70381726303943, δ = 1e-05)\n",
            "[client_i]\tTrain Epoch: 9 \tLoss: 1.7479 (ε = 90.470481103379, δ = 1e-05)\n",
            "[client_i]\tTrain Epoch: 9 \tLoss: 1.9139 (ε = 124.0419698523691, δ = 1e-05)\n",
            "[client_i]\tTrain Epoch: 9 \tLoss: 1.8954 (ε = 49.999780894461985, δ = 1e-05)\n",
            "[client_i]\tTrain Epoch: 9 \tLoss: 2.2722 (ε = 107.73404164903467, δ = 1e-05)\n",
            "5-th round\n",
            "average train loss 0.496 | test loss 0.767 | test acc: 0.788 | epsilon: 124.042\n",
            "[client_i]\tTrain Epoch: 9 \tLoss: 2.9324 (ε = 107.73404164903467, δ = 1e-05)\n",
            "[client_i]\tTrain Epoch: 9 \tLoss: 1.9738 (ε = 124.0419698523691, δ = 1e-05)\n",
            "[client_i]\tTrain Epoch: 9 \tLoss: 1.9656 (ε = 71.70381726303943, δ = 1e-05)\n",
            "[client_i]\tTrain Epoch: 9 \tLoss: 1.8094 (ε = 124.0419698523691, δ = 1e-05)\n",
            "[client_i]\tTrain Epoch: 9 \tLoss: 1.7671 (ε = 139.67343648465524, δ = 1e-05)\n",
            "6-th round\n",
            "average train loss 0.125 | test loss 1.25 | test acc: 0.720 | epsilon: 139.673\n",
            "[client_i]\tTrain Epoch: 9 \tLoss: 1.9084 (ε = 124.0419698523691, δ = 1e-05)\n",
            "[client_i]\tTrain Epoch: 9 \tLoss: 1.8480 (ε = 71.70381726303943, δ = 1e-05)\n",
            "[client_i]\tTrain Epoch: 9 \tLoss: 1.9592 (ε = 107.73404164903467, δ = 1e-05)\n",
            "[client_i]\tTrain Epoch: 9 \tLoss: 2.1303 (ε = 90.470481103379, δ = 1e-05)\n",
            "[client_i]\tTrain Epoch: 9 \tLoss: 2.2505 (ε = 90.470481103379, δ = 1e-05)\n",
            "7-th round\n",
            "average train loss 0.613 | test loss 1.01 | test acc: 0.800 | epsilon: 124.042\n",
            "[client_i]\tTrain Epoch: 9 \tLoss: 1.7329 (ε = 154.7934762525084, δ = 1e-05)\n",
            "[client_i]\tTrain Epoch: 9 \tLoss: 2.3639 (ε = 90.470481103379, δ = 1e-05)\n",
            "[client_i]\tTrain Epoch: 9 \tLoss: 1.9143 (ε = 124.0419698523691, δ = 1e-05)\n",
            "[client_i]\tTrain Epoch: 9 \tLoss: 1.8435 (ε = 139.67343648465524, δ = 1e-05)\n",
            "[client_i]\tTrain Epoch: 9 \tLoss: 2.0896 (ε = 139.67343648465524, δ = 1e-05)\n",
            "8-th round\n",
            "average train loss 1.07 | test loss 1.24 | test acc: 0.805 | epsilon: 154.793\n",
            "[client_i]\tTrain Epoch: 9 \tLoss: 1.7046 (ε = 154.7934762525084, δ = 1e-05)\n",
            "[client_i]\tTrain Epoch: 9 \tLoss: 1.8812 (ε = 124.0419698523691, δ = 1e-05)\n",
            "[client_i]\tTrain Epoch: 9 \tLoss: 2.0794 (ε = 154.7934762525084, δ = 1e-05)\n",
            "[client_i]\tTrain Epoch: 9 \tLoss: 2.0326 (ε = 107.73404164903467, δ = 1e-05)\n",
            "[client_i]\tTrain Epoch: 9 \tLoss: 2.0580 (ε = 107.73404164903467, δ = 1e-05)\n",
            "9-th round\n",
            "average train loss 0.683 | test loss 1.46 | test acc: 0.793 | epsilon: 154.793\n"
          ]
        }
      ]
    },
    {
      "cell_type": "code",
      "metadata": {
        "id": "coqF7vv5fc6D",
        "colab": {
          "base_uri": "https://localhost:8080/",
          "height": 472
        },
        "outputId": "e3f905fb-cc00-4b17-9f2e-a48284eea0bc"
      },
      "source": [
        "from pylab import plt\n",
        "x = [i+1 for i in range(Epoch)]\n",
        "plt.plot(x,test_acc,label='Accuracy')\n",
        "plt.plot(x,test_losses,label='Loss')\n",
        "plt.title(\"Accuracy vs Loss\")\n",
        "plt.xlabel('Epoch')\n",
        "plt.ylabel('%')\n",
        "plt.xticks(x)\n",
        "plt.legend()\n",
        "plt.show()\n",
        "# plt.savefig()"
      ],
      "execution_count": null,
      "outputs": [
        {
          "output_type": "display_data",
          "data": {
            "text/plain": [
              "<Figure size 640x480 with 1 Axes>"
            ],
            "image/png": "[encoded data removed]"
          },
          "metadata": {}
        }
      ]
    },
    {
      "cell_type": "markdown",
      "source": [
        "### References\n",
        "\n",
        "1. https://opacus.ai/\n",
        "2. https://github.com/pytorch/opacus"
      ],
      "metadata": {
        "id": "1jIgTTlpmaIK"
      }
    }
  ]
}